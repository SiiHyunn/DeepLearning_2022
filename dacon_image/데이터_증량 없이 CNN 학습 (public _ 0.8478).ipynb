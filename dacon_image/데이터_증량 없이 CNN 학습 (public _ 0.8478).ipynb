{
  "cells": [
    {
      "cell_type": "markdown",
      "metadata": {
        "id": "4nk0cbwsZy2_"
      },
      "source": [
        "# GPU사용"
      ]
    },
    {
      "cell_type": "code",
      "execution_count": 1,
      "metadata": {
        "colab": {
          "base_uri": "https://localhost:8080/"
        },
        "id": "IMAfwQfVOgAZ",
        "outputId": "1b1871a5-1e8e-44d3-f1b8-5e49316477fc"
      },
      "outputs": [
        {
          "name": "stdout",
          "output_type": "stream",
          "text": [
            "Found GPU at: /device:GPU:0Metal device set to: \n"
          ]
        },
        {
          "name": "stderr",
          "output_type": "stream",
          "text": [
            "2022-02-25 12:02:12.096441: I tensorflow/core/common_runtime/pluggable_device/pluggable_device_factory.cc:305] Could not identify NUMA node of platform GPU ID 0, defaulting to 0. Your kernel may not have been built with NUMA support.\n"
          ]
        },
        {
          "name": "stdout",
          "output_type": "stream",
          "text": [
            "Apple M1 Max\n",
            "\n",
            "systemMemory: 32.00 GB\n",
            "maxCacheSize: 10.67 GB\n",
            "\n"
          ]
        },
        {
          "name": "stderr",
          "output_type": "stream",
          "text": [
            "2022-02-25 12:02:12.096576: I tensorflow/core/common_runtime/pluggable_device/pluggable_device_factory.cc:271] Created TensorFlow device (/device:GPU:0 with 0 MB memory) -> physical PluggableDevice (device: 0, name: METAL, pci bus id: <undefined>)\n"
          ]
        }
      ],
      "source": [
        "import tensorflow as tf\n",
        "device_name = tf.test.gpu_device_name()\n",
        "if device_name != '/device:GPU:0':\n",
        "  raise SystemError('GPU device not found')\n",
        "print('Found GPU at: {}'.format(device_name))"
      ]
    },
    {
      "cell_type": "markdown",
      "metadata": {
        "id": "KPDZoY-mOzaD"
      },
      "source": [
        "### train dataset 호출"
      ]
    },
    {
      "cell_type": "code",
      "execution_count": 9,
      "metadata": {
        "id": "zRsKi3IwOr0d"
      },
      "outputs": [
        {
          "name": "stdout",
          "output_type": "stream",
          "text": [
            "(0,)\n",
            "(0, 1)\n"
          ]
        }
      ],
      "source": [
        "#create training dataset\n",
        "from glob import glob\n",
        "import numpy as np\n",
        "import PIL\n",
        "from PIL import Image\n",
        "\n",
        "path = './train/'\n",
        "\n",
        "training_images = []\n",
        "training_labels = []\n",
        "\n",
        "for filename in glob(path +\"*\"):\n",
        "    for img in glob(filename + \"/*.jpg\"):\n",
        "        print(\"now:\",img )\n",
        "        an_img = PIL.Image.open(img)\n",
        "        # an_img = PIL.Image.open(img).convert('L') #read img to gray\n",
        "        img_array = np.array(an_img) #img to array\n",
        "        training_images.append(img_array) #append array to training_images \n",
        "        label = filename.split('/')[-1] #get label\n",
        "        print(\"label:\",label)\n",
        "        training_labels.append(label) #append label\n",
        "        print(\"끝\")\n",
        "\n",
        "training_images = np.array(training_images)\n",
        "training_labels = np.array(training_labels)\n",
        "\n",
        "from sklearn.preprocessing import LabelEncoder\n",
        "\n",
        "le = LabelEncoder()\n",
        "training_labels= le.fit_transform(training_labels)\n",
        "training_labels = training_labels.reshape(-1,1)\n",
        "\n",
        "print(training_images.shape)\n",
        "print(training_labels.shape)"
      ]
    },
    {
      "cell_type": "markdown",
      "metadata": {
        "id": "Nm6dW5VaOv5j"
      },
      "source": [
        "## test dataset 호출"
      ]
    },
    {
      "cell_type": "code",
      "execution_count": null,
      "metadata": {
        "id": "XOM2l-5cOvY9"
      },
      "outputs": [],
      "source": [
        "#create test dataset\n",
        "\n",
        "path = 'test/'\n",
        "\n",
        "test_images = []\n",
        "test_idx = []\n",
        "\n",
        "flist = sorted(glob(path + '*.jpg'))\n",
        "\n",
        "for filename in flist:\n",
        "    print(\"now:\",filename )\n",
        "    an_img = PIL.Image.open(filename)\n",
        "    # an_img = PIL.Image.open(filename).convert('L') #read img\n",
        "    img_array = np.array(an_img) #img to array\n",
        "    test_images.append(img_array) #append array to training_images \n",
        "    \n",
        "    label = filename.split('/')[1] #get id \n",
        "    test_idx.append(label) #append id\n",
        "    print(\"label:\",label)\n",
        "    \n",
        "test_images = np.array(test_images)\n",
        "\n",
        "print(test_images.shape)\n",
        "print(test_idx[0:5])"
      ]
    },
    {
      "cell_type": "markdown",
      "metadata": {
        "id": "k-xWZnmnRcVi"
      },
      "source": [
        "# 0~1 Scale"
      ]
    },
    {
      "cell_type": "code",
      "execution_count": null,
      "metadata": {
        "id": "CFxRvj1RRWuV"
      },
      "outputs": [],
      "source": [
        "training_images = training_images/255.0\n",
        "\n",
        "test_images = test_images/255.0"
      ]
    },
    {
      "cell_type": "markdown",
      "metadata": {
        "id": "LgmNihnWAwCy"
      },
      "source": [
        "# 데이터 shuffle"
      ]
    },
    {
      "cell_type": "code",
      "execution_count": null,
      "metadata": {
        "id": "CVArhBl7-6z2"
      },
      "outputs": [],
      "source": [
        "idx = np.arange(training_images.shape[0])\n",
        "np.random.shuffle(idx)"
      ]
    },
    {
      "cell_type": "code",
      "execution_count": null,
      "metadata": {
        "colab": {
          "base_uri": "https://localhost:8080/"
        },
        "id": "SXDvGQc5_9gJ",
        "outputId": "487f4f65-b764-45be-ceec-aa17e1f8da0b"
      },
      "outputs": [
        {
          "data": {
            "text/plain": [
              "array([31361, 26892, 37056, ..., 30620, 23934,  7958])"
            ]
          },
          "execution_count": 13,
          "metadata": {},
          "output_type": "execute_result"
        }
      ],
      "source": [
        "idx"
      ]
    },
    {
      "cell_type": "code",
      "execution_count": null,
      "metadata": {
        "id": "yPeh4BexAFX5"
      },
      "outputs": [],
      "source": [
        "shuffle_images = training_images[idx]\n",
        "shuffle_labels = training_labels[idx]"
      ]
    },
    {
      "cell_type": "markdown",
      "metadata": {
        "id": "SbKTuZf0R_4x"
      },
      "source": [
        "### 해야할것 \n",
        "## 1. xavier 초기화 / conv2d에는 이미 적용이 되있음 /Dense에 적용 O\n",
        "## 2. 데이터 전처리(/255.0) / O\n",
        "## 3. 여러 콜백 / O(ES / lr decay)\n",
        "## 4. 모델 재구성 (ResNet은 파라미터의 숫자가 방대하기에 colab에서 돌리지 못할 것 같음)\n",
        "## 5. 데이터 증량\n",
        "## 6. k-fold / O\n",
        "## 7. 앙상블\n",
        "## 8. non color > to gray"
      ]
    },
    {
      "cell_type": "markdown",
      "metadata": {
        "id": "vZrFIKEsZ60O"
      },
      "source": [
        "#모델구조"
      ]
    },
    {
      "cell_type": "code",
      "execution_count": null,
      "metadata": {
        "id": "C18K90IWPA3P"
      },
      "outputs": [],
      "source": [
        "import tensorflow as tf\n",
        "\n",
        "model = tf.keras.models.Sequential([\n",
        "    tf.keras.layers.Conv2D(256, (3,3), activation='relu', padding='SAME',input_shape=(32, 32, 3)), #cnn layer\n",
        "    tf.keras.layers.BatchNormalization(),\n",
        "    tf.keras.layers.MaxPooling2D(2, 2, padding='SAME'), #pooling layer\n",
        "    tf.keras.layers.Dropout(0.35)\n",
        "\n",
        "    tf.keras.layers.Conv2D(256, (3,3), activation='relu', padding='SAME'),\n",
        "    tf.keras.layers.BatchNormalization(),\n",
        "    # tf.keras.layers.MaxPooling2D(2, 2, padding='SAME'),\n",
        "    tf.keras.layers.Dropout(0.35),\n",
        "\n",
        "    tf.keras.layers.Conv2D(128, (3,3), activation='relu', padding='SAME'),\n",
        "    tf.keras.layers.BatchNormalization(),\n",
        "    tf.keras.layers.MaxPooling2D(2, 2, padding='SAME'),\n",
        "    tf.keras.layers.Dropout(0.35),\n",
        "\n",
        "    tf.keras.layers.Conv2D(128, (3,3), activation='relu', padding='SAME'),\n",
        "    tf.keras.layers.BatchNormalization(),\n",
        "    # tf.keras.layers.MaxPooling2D(2, 2, padding='SAME'),\n",
        "    tf.keras.layers.Dropout(0.35),\n",
        "\n",
        "    tf.keras.layers.Conv2D(64, (3,3), activation='relu', padding='SAME'),\n",
        "    tf.keras.layers.BatchNormalization(),\n",
        "    # tf.keras.layers.MaxPooling2D(2, 2, padding='SAME'),\n",
        "    tf.keras.layers.Dropout(0.35),\n",
        "\n",
        "\n",
        "    tf.keras.layers.Flatten(), # N차원 배열 -> 1차원 배열\n",
        "    tf.keras.layers.Dense(256, activation = 'relu',kernel_regularizer='l2',kernel_initializer=tf.keras.initializers.GlorotNormal()), #fully connected layer\n",
        "    tf.keras.layers.Dropout(0.2),\n",
        "    tf.keras.layers.Dense(256, activation = 'relu',kernel_initializer=tf.keras.initializers.GlorotNormal()), #fully connected layer\n",
        "    tf.keras.layers.Dropout(0.2),\n",
        "    tf.keras.layers.Dense(10, activation = 'softmax') # ouput layer\n",
        "])"
      ]
    },
    {
      "cell_type": "code",
      "execution_count": null,
      "metadata": {
        "colab": {
          "base_uri": "https://localhost:8080/"
        },
        "id": "-hOgTEi9PC1f",
        "outputId": "029d99e5-2108-41d4-a53b-1e7ea78f147f"
      },
      "outputs": [
        {
          "name": "stdout",
          "output_type": "stream",
          "text": [
            "Model: \"sequential\"\n",
            "_________________________________________________________________\n",
            " Layer (type)                Output Shape              Param #   \n",
            "=================================================================\n",
            " conv2d (Conv2D)             (None, 32, 32, 256)       7168      \n",
            "                                                                 \n",
            " batch_normalization (BatchN  (None, 32, 32, 256)      1024      \n",
            " ormalization)                                                   \n",
            "                                                                 \n",
            " max_pooling2d (MaxPooling2D  (None, 16, 16, 256)      0         \n",
            " )                                                               \n",
            "                                                                 \n",
            " dropout (Dropout)           (None, 16, 16, 256)       0         \n",
            "                                                                 \n",
            " conv2d_1 (Conv2D)           (None, 16, 16, 256)       590080    \n",
            "                                                                 \n",
            " batch_normalization_1 (Batc  (None, 16, 16, 256)      1024      \n",
            " hNormalization)                                                 \n",
            "                                                                 \n",
            " dropout_1 (Dropout)         (None, 16, 16, 256)       0         \n",
            "                                                                 \n",
            " conv2d_2 (Conv2D)           (None, 16, 16, 128)       295040    \n",
            "                                                                 \n",
            " batch_normalization_2 (Batc  (None, 16, 16, 128)      512       \n",
            " hNormalization)                                                 \n",
            "                                                                 \n",
            " max_pooling2d_1 (MaxPooling  (None, 8, 8, 128)        0         \n",
            " 2D)                                                             \n",
            "                                                                 \n",
            " dropout_2 (Dropout)         (None, 8, 8, 128)         0         \n",
            "                                                                 \n",
            " conv2d_3 (Conv2D)           (None, 8, 8, 128)         147584    \n",
            "                                                                 \n",
            " batch_normalization_3 (Batc  (None, 8, 8, 128)        512       \n",
            " hNormalization)                                                 \n",
            "                                                                 \n",
            " dropout_3 (Dropout)         (None, 8, 8, 128)         0         \n",
            "                                                                 \n",
            " conv2d_4 (Conv2D)           (None, 8, 8, 64)          73792     \n",
            "                                                                 \n",
            " batch_normalization_4 (Batc  (None, 8, 8, 64)         256       \n",
            " hNormalization)                                                 \n",
            "                                                                 \n",
            " dropout_4 (Dropout)         (None, 8, 8, 64)          0         \n",
            "                                                                 \n",
            " flatten (Flatten)           (None, 4096)              0         \n",
            "                                                                 \n",
            " dense (Dense)               (None, 256)               1048832   \n",
            "                                                                 \n",
            " dropout_5 (Dropout)         (None, 256)               0         \n",
            "                                                                 \n",
            " dense_1 (Dense)             (None, 256)               65792     \n",
            "                                                                 \n",
            " dropout_6 (Dropout)         (None, 256)               0         \n",
            "                                                                 \n",
            " dense_2 (Dense)             (None, 10)                2570      \n",
            "                                                                 \n",
            "=================================================================\n",
            "Total params: 2,234,186\n",
            "Trainable params: 2,232,522\n",
            "Non-trainable params: 1,664\n",
            "_________________________________________________________________\n"
          ]
        }
      ],
      "source": [
        "optim_adam = tf.keras.optimizers.Adam(learning_rate=0.01)\n",
        "model.compile(optimizer=optim_adam, loss = 'sparse_categorical_crossentropy', metrics=['accuracy'])\n",
        "model.summary()"
      ]
    },
    {
      "cell_type": "markdown",
      "metadata": {
        "id": "Q1fTYmeNLBMD"
      },
      "source": [
        "# K-Fold\n",
        "## k-fold를 통해 최대한 모든 데이터를 학습에 사용하고자 함."
      ]
    },
    {
      "cell_type": "code",
      "execution_count": null,
      "metadata": {
        "id": "PcSt8BOnLBMF"
      },
      "outputs": [],
      "source": [
        "from sklearn.model_selection import KFold\n",
        "from keras.callbacks import EarlyStopping, ReduceLROnPlateau # EarlyStopping > 중도 학습 중단 / ReduceLROnPlateau 중도 학습률 변경"
      ]
    },
    {
      "cell_type": "code",
      "execution_count": null,
      "metadata": {
        "id": "m36JeARpLBMF"
      },
      "outputs": [],
      "source": [
        "kfold = KFold(n_splits= 5) # 5개의 fold 수 즉 test 4만개 /validation 1만개"
      ]
    },
    {
      "cell_type": "code",
      "execution_count": null,
      "metadata": {
        "colab": {
          "base_uri": "https://localhost:8080/"
        },
        "id": "e58qPPI9PFfQ",
        "outputId": "721c0fed-db98-420e-a491-1e9e24bdee4b"
      },
      "outputs": [
        {
          "name": "stdout",
          "output_type": "stream",
          "text": [
            "fold_count = 0\n",
            "Epoch 1/20\n",
            "79/79 [==============================] - 30s 224ms/step - loss: 4.6468 - accuracy: 0.2990 - val_loss: 2.9949 - val_accuracy: 0.2049 - lr: 0.0100\n",
            "Epoch 2/20\n",
            "79/79 [==============================] - 13s 170ms/step - loss: 2.2127 - accuracy: 0.4092 - val_loss: 3.0654 - val_accuracy: 0.2334 - lr: 0.0100\n",
            "Epoch 3/20\n",
            "79/79 [==============================] - 13s 171ms/step - loss: 2.2248 - accuracy: 0.4656 - val_loss: 2.7601 - val_accuracy: 0.3000 - lr: 0.0100\n",
            "Epoch 4/20\n",
            "79/79 [==============================] - 13s 171ms/step - loss: 2.1952 - accuracy: 0.5087 - val_loss: 2.7714 - val_accuracy: 0.3395 - lr: 0.0100\n",
            "Epoch 5/20\n",
            "79/79 [==============================] - 14s 171ms/step - loss: 2.1544 - accuracy: 0.5399 - val_loss: 2.2872 - val_accuracy: 0.4906 - lr: 0.0100\n",
            "Epoch 6/20\n",
            "79/79 [==============================] - 14s 171ms/step - loss: 2.0174 - accuracy: 0.5837 - val_loss: 2.4381 - val_accuracy: 0.4390 - lr: 0.0100\n",
            "Epoch 7/20\n",
            "79/79 [==============================] - 14s 173ms/step - loss: 1.9582 - accuracy: 0.6037 - val_loss: 2.1815 - val_accuracy: 0.5099 - lr: 0.0100\n",
            "Epoch 8/20\n",
            "79/79 [==============================] - 14s 173ms/step - loss: 1.8967 - accuracy: 0.6229 - val_loss: 1.9324 - val_accuracy: 0.6017 - lr: 0.0100\n",
            "Epoch 9/20\n",
            "79/79 [==============================] - 14s 173ms/step - loss: 1.7772 - accuracy: 0.6400 - val_loss: 2.5728 - val_accuracy: 0.5173 - lr: 0.0100\n",
            "Epoch 10/20\n",
            "79/79 [==============================] - 14s 174ms/step - loss: 1.7147 - accuracy: 0.6509 - val_loss: 1.7380 - val_accuracy: 0.6159 - lr: 0.0100\n",
            "Epoch 11/20\n",
            "79/79 [==============================] - 14s 173ms/step - loss: 1.6639 - accuracy: 0.6663 - val_loss: 4.7215 - val_accuracy: 0.2959 - lr: 0.0100\n",
            "Epoch 12/20\n",
            "79/79 [==============================] - 14s 173ms/step - loss: 1.5982 - accuracy: 0.6762 - val_loss: 1.5803 - val_accuracy: 0.6684 - lr: 0.0100\n",
            "Epoch 13/20\n",
            "79/79 [==============================] - 14s 173ms/step - loss: 1.5271 - accuracy: 0.6894 - val_loss: 1.7306 - val_accuracy: 0.6187 - lr: 0.0100\n",
            "Epoch 14/20\n",
            "79/79 [==============================] - 14s 173ms/step - loss: 1.4742 - accuracy: 0.7004 - val_loss: 1.8049 - val_accuracy: 0.6251 - lr: 0.0100\n",
            "Epoch 15/20\n",
            "79/79 [==============================] - 14s 173ms/step - loss: 1.4786 - accuracy: 0.7091 - val_loss: 1.5752 - val_accuracy: 0.6714 - lr: 0.0100\n",
            "Epoch 16/20\n",
            "79/79 [==============================] - 14s 179ms/step - loss: 1.4196 - accuracy: 0.7161 - val_loss: 1.5100 - val_accuracy: 0.6777 - lr: 0.0100\n",
            "Epoch 17/20\n",
            "79/79 [==============================] - 14s 173ms/step - loss: 1.4151 - accuracy: 0.7220 - val_loss: 1.5126 - val_accuracy: 0.6803 - lr: 0.0100\n",
            "Epoch 18/20\n",
            "79/79 [==============================] - 14s 173ms/step - loss: 1.3584 - accuracy: 0.7323 - val_loss: 1.5077 - val_accuracy: 0.6912 - lr: 0.0100\n",
            "Epoch 19/20\n",
            "79/79 [==============================] - 14s 173ms/step - loss: 1.3959 - accuracy: 0.7279 - val_loss: 1.7865 - val_accuracy: 0.6508 - lr: 0.0100\n",
            "Epoch 20/20\n",
            "79/79 [==============================] - 14s 173ms/step - loss: 1.3631 - accuracy: 0.7366 - val_loss: 1.7526 - val_accuracy: 0.6303 - lr: 0.0100\n",
            "fold_count = 1\n",
            "Epoch 1/20\n",
            "79/79 [==============================] - 14s 174ms/step - loss: 1.3110 - accuracy: 0.7328 - val_loss: 1.3299 - val_accuracy: 0.7339 - lr: 0.0100\n",
            "Epoch 2/20\n",
            "79/79 [==============================] - 14s 174ms/step - loss: 1.3092 - accuracy: 0.7403 - val_loss: 1.2914 - val_accuracy: 0.7523 - lr: 0.0100\n",
            "Epoch 3/20\n",
            "79/79 [==============================] - 14s 174ms/step - loss: 1.2970 - accuracy: 0.7453 - val_loss: 1.5625 - val_accuracy: 0.6666 - lr: 0.0100\n",
            "Epoch 4/20\n",
            "79/79 [==============================] - 14s 173ms/step - loss: 1.3453 - accuracy: 0.7445 - val_loss: 1.3184 - val_accuracy: 0.7390 - lr: 0.0100\n",
            "Epoch 5/20\n",
            "78/79 [============================>.] - ETA: 0s - loss: 1.2639 - accuracy: 0.7533\n",
            "Epoch 5: ReduceLROnPlateau reducing learning rate to 0.007999999821186066.\n",
            "79/79 [==============================] - 14s 172ms/step - loss: 1.2641 - accuracy: 0.7532 - val_loss: 1.2935 - val_accuracy: 0.7459 - lr: 0.0100\n",
            "Epoch 6/20\n",
            "79/79 [==============================] - 14s 173ms/step - loss: 1.1692 - accuracy: 0.7637 - val_loss: 1.0621 - val_accuracy: 0.7851 - lr: 0.0080\n",
            "Epoch 7/20\n",
            "79/79 [==============================] - 14s 179ms/step - loss: 1.1485 - accuracy: 0.7690 - val_loss: 1.0756 - val_accuracy: 0.7782 - lr: 0.0080\n",
            "Epoch 8/20\n",
            "79/79 [==============================] - 14s 173ms/step - loss: 1.0913 - accuracy: 0.7757 - val_loss: 1.0892 - val_accuracy: 0.7746 - lr: 0.0080\n",
            "Epoch 9/20\n",
            "79/79 [==============================] - 14s 173ms/step - loss: 1.1102 - accuracy: 0.7770 - val_loss: 1.0131 - val_accuracy: 0.7909 - lr: 0.0080\n",
            "Epoch 10/20\n",
            "79/79 [==============================] - 14s 173ms/step - loss: 1.0742 - accuracy: 0.7839 - val_loss: 1.0107 - val_accuracy: 0.7965 - lr: 0.0080\n",
            "Epoch 11/20\n",
            "79/79 [==============================] - 14s 173ms/step - loss: 1.0541 - accuracy: 0.7835 - val_loss: 1.0503 - val_accuracy: 0.7858 - lr: 0.0080\n",
            "Epoch 12/20\n",
            "79/79 [==============================] - 14s 173ms/step - loss: 1.0588 - accuracy: 0.7866 - val_loss: 1.1340 - val_accuracy: 0.7627 - lr: 0.0080\n",
            "Epoch 13/20\n",
            "78/79 [============================>.] - ETA: 0s - loss: 1.0551 - accuracy: 0.7880\n",
            "Epoch 13: ReduceLROnPlateau reducing learning rate to 0.006399999558925629.\n",
            "79/79 [==============================] - 14s 172ms/step - loss: 1.0553 - accuracy: 0.7879 - val_loss: 1.1737 - val_accuracy: 0.7629 - lr: 0.0080\n",
            "Epoch 14/20\n",
            "79/79 [==============================] - 14s 172ms/step - loss: 0.9763 - accuracy: 0.7989 - val_loss: 0.9340 - val_accuracy: 0.8111 - lr: 0.0064\n",
            "Epoch 15/20\n",
            "79/79 [==============================] - 14s 172ms/step - loss: 0.9837 - accuracy: 0.8012 - val_loss: 0.9896 - val_accuracy: 0.7837 - lr: 0.0064\n",
            "Epoch 16/20\n",
            "79/79 [==============================] - 14s 173ms/step - loss: 0.9324 - accuracy: 0.8073 - val_loss: 0.9324 - val_accuracy: 0.8017 - lr: 0.0064\n",
            "Epoch 17/20\n",
            "79/79 [==============================] - 14s 173ms/step - loss: 0.9571 - accuracy: 0.8043 - val_loss: 0.9815 - val_accuracy: 0.7904 - lr: 0.0064\n",
            "Epoch 18/20\n",
            "79/79 [==============================] - 14s 173ms/step - loss: 0.9478 - accuracy: 0.8073 - val_loss: 1.0532 - val_accuracy: 0.7731 - lr: 0.0064\n",
            "Epoch 19/20\n",
            "79/79 [==============================] - 14s 173ms/step - loss: 0.9258 - accuracy: 0.8090 - val_loss: 0.8853 - val_accuracy: 0.8199 - lr: 0.0064\n",
            "Epoch 20/20\n",
            "79/79 [==============================] - 14s 172ms/step - loss: 0.9220 - accuracy: 0.8118 - val_loss: 0.9718 - val_accuracy: 0.7949 - lr: 0.0064\n",
            "fold_count = 2\n",
            "Epoch 1/20\n",
            "79/79 [==============================] - 14s 174ms/step - loss: 0.9497 - accuracy: 0.8023 - val_loss: 0.7798 - val_accuracy: 0.8495 - lr: 0.0064\n",
            "Epoch 2/20\n",
            "79/79 [==============================] - 14s 172ms/step - loss: 0.9342 - accuracy: 0.8095 - val_loss: 0.7999 - val_accuracy: 0.8511 - lr: 0.0064\n",
            "Epoch 3/20\n",
            "79/79 [==============================] - 14s 173ms/step - loss: 0.9168 - accuracy: 0.8123 - val_loss: 0.7966 - val_accuracy: 0.8476 - lr: 0.0064\n",
            "Epoch 4/20\n",
            "78/79 [============================>.] - ETA: 0s - loss: 0.9063 - accuracy: 0.8121\n",
            "Epoch 4: ReduceLROnPlateau reducing learning rate to 0.0051199994981288915.\n",
            "79/79 [==============================] - 14s 173ms/step - loss: 0.9064 - accuracy: 0.8122 - val_loss: 0.7811 - val_accuracy: 0.8466 - lr: 0.0064\n",
            "Epoch 5/20\n",
            "79/79 [==============================] - 14s 173ms/step - loss: 0.8403 - accuracy: 0.8229 - val_loss: 0.7699 - val_accuracy: 0.8374 - lr: 0.0051\n",
            "Epoch 6/20\n",
            "79/79 [==============================] - 14s 173ms/step - loss: 0.8390 - accuracy: 0.8235 - val_loss: 0.8253 - val_accuracy: 0.8261 - lr: 0.0051\n",
            "Epoch 7/20\n",
            "79/79 [==============================] - 14s 173ms/step - loss: 0.8154 - accuracy: 0.8261 - val_loss: 0.7979 - val_accuracy: 0.8237 - lr: 0.0051\n",
            "Epoch 8/20\n",
            "79/79 [==============================] - 14s 173ms/step - loss: 0.8473 - accuracy: 0.8217 - val_loss: 0.7178 - val_accuracy: 0.8492 - lr: 0.0051\n",
            "Epoch 9/20\n",
            "79/79 [==============================] - 14s 173ms/step - loss: 0.7934 - accuracy: 0.8317 - val_loss: 0.7783 - val_accuracy: 0.8272 - lr: 0.0051\n",
            "Epoch 10/20\n",
            "79/79 [==============================] - 14s 173ms/step - loss: 0.8079 - accuracy: 0.8307 - val_loss: 0.7831 - val_accuracy: 0.8326 - lr: 0.0051\n",
            "Epoch 11/20\n",
            "78/79 [============================>.] - ETA: 0s - loss: 0.8145 - accuracy: 0.8300\n",
            "Epoch 11: ReduceLROnPlateau reducing learning rate to 0.004095999523997307.\n",
            "79/79 [==============================] - 14s 173ms/step - loss: 0.8145 - accuracy: 0.8300 - val_loss: 0.8051 - val_accuracy: 0.8354 - lr: 0.0051\n",
            "Epoch 12/20\n",
            "79/79 [==============================] - 14s 173ms/step - loss: 0.7380 - accuracy: 0.8413 - val_loss: 0.7417 - val_accuracy: 0.8396 - lr: 0.0041\n",
            "Epoch 13/20\n",
            "79/79 [==============================] - 14s 172ms/step - loss: 0.7441 - accuracy: 0.8429 - val_loss: 0.6642 - val_accuracy: 0.8549 - lr: 0.0041\n",
            "Epoch 14/20\n",
            "79/79 [==============================] - 14s 173ms/step - loss: 0.7146 - accuracy: 0.8453 - val_loss: 0.6862 - val_accuracy: 0.8520 - lr: 0.0041\n",
            "Epoch 15/20\n",
            "79/79 [==============================] - 14s 173ms/step - loss: 0.7174 - accuracy: 0.8457 - val_loss: 0.6804 - val_accuracy: 0.8500 - lr: 0.0041\n",
            "Epoch 16/20\n",
            "79/79 [==============================] - 14s 173ms/step - loss: 0.6995 - accuracy: 0.8501 - val_loss: 0.6512 - val_accuracy: 0.8612 - lr: 0.0041\n",
            "Epoch 17/20\n",
            "79/79 [==============================] - 14s 173ms/step - loss: 0.7089 - accuracy: 0.8460 - val_loss: 0.6609 - val_accuracy: 0.8550 - lr: 0.0041\n",
            "Epoch 18/20\n",
            "79/79 [==============================] - 14s 172ms/step - loss: 0.6934 - accuracy: 0.8511 - val_loss: 0.7124 - val_accuracy: 0.8401 - lr: 0.0041\n",
            "Epoch 19/20\n",
            "78/79 [============================>.] - ETA: 0s - loss: 0.7213 - accuracy: 0.8486\n",
            "Epoch 19: ReduceLROnPlateau reducing learning rate to 0.0032767996191978457.\n",
            "79/79 [==============================] - 14s 173ms/step - loss: 0.7218 - accuracy: 0.8485 - val_loss: 0.6727 - val_accuracy: 0.8589 - lr: 0.0041\n",
            "Epoch 20/20\n",
            "79/79 [==============================] - 14s 173ms/step - loss: 0.6609 - accuracy: 0.8536 - val_loss: 0.5968 - val_accuracy: 0.8698 - lr: 0.0033\n",
            "fold_count = 3\n",
            "Epoch 1/20\n",
            "79/79 [==============================] - 14s 175ms/step - loss: 0.6765 - accuracy: 0.8481 - val_loss: 0.4603 - val_accuracy: 0.9183 - lr: 0.0033\n",
            "Epoch 2/20\n",
            "79/79 [==============================] - 14s 172ms/step - loss: 0.6538 - accuracy: 0.8516 - val_loss: 0.4401 - val_accuracy: 0.9282 - lr: 0.0033\n",
            "Epoch 3/20\n",
            "79/79 [==============================] - 14s 172ms/step - loss: 0.6545 - accuracy: 0.8549 - val_loss: 0.4846 - val_accuracy: 0.9062 - lr: 0.0033\n",
            "Epoch 4/20\n",
            "79/79 [==============================] - 14s 172ms/step - loss: 0.6579 - accuracy: 0.8562 - val_loss: 0.4633 - val_accuracy: 0.9170 - lr: 0.0033\n",
            "Epoch 5/20\n",
            "78/79 [============================>.] - ETA: 0s - loss: 0.6541 - accuracy: 0.8556\n",
            "Epoch 5: ReduceLROnPlateau reducing learning rate to 0.0026214396581053737.\n",
            "79/79 [==============================] - 14s 173ms/step - loss: 0.6543 - accuracy: 0.8555 - val_loss: 0.4879 - val_accuracy: 0.9018 - lr: 0.0033\n",
            "Epoch 6/20\n",
            "79/79 [==============================] - 14s 173ms/step - loss: 0.6047 - accuracy: 0.8607 - val_loss: 0.4495 - val_accuracy: 0.9104 - lr: 0.0026\n",
            "Epoch 7/20\n",
            "79/79 [==============================] - 14s 173ms/step - loss: 0.5932 - accuracy: 0.8610 - val_loss: 0.4046 - val_accuracy: 0.9224 - lr: 0.0026\n",
            "Epoch 8/20\n",
            "79/79 [==============================] - 14s 173ms/step - loss: 0.5816 - accuracy: 0.8624 - val_loss: 0.4365 - val_accuracy: 0.9201 - lr: 0.0026\n",
            "Epoch 9/20\n",
            "79/79 [==============================] - 14s 173ms/step - loss: 0.5849 - accuracy: 0.8641 - val_loss: 0.4371 - val_accuracy: 0.9125 - lr: 0.0026\n",
            "Epoch 10/20\n",
            "78/79 [============================>.] - ETA: 0s - loss: 0.5913 - accuracy: 0.8662\n",
            "Epoch 10: ReduceLROnPlateau reducing learning rate to 0.0020971518009901048.\n",
            "79/79 [==============================] - 14s 172ms/step - loss: 0.5913 - accuracy: 0.8662 - val_loss: 0.4408 - val_accuracy: 0.9103 - lr: 0.0026\n",
            "Epoch 11/20\n",
            "79/79 [==============================] - 14s 172ms/step - loss: 0.5484 - accuracy: 0.8723 - val_loss: 0.4055 - val_accuracy: 0.9156 - lr: 0.0021\n",
            "Epoch 12/20\n",
            "79/79 [==============================] - 14s 173ms/step - loss: 0.5403 - accuracy: 0.8715 - val_loss: 0.5055 - val_accuracy: 0.8811 - lr: 0.0021\n",
            "Epoch 13/20\n",
            "78/79 [============================>.] - ETA: 0s - loss: 0.5409 - accuracy: 0.8695\n",
            "Epoch 13: ReduceLROnPlateau reducing learning rate to 0.0016777213662862779.\n",
            "79/79 [==============================] - 14s 172ms/step - loss: 0.5413 - accuracy: 0.8694 - val_loss: 0.4196 - val_accuracy: 0.9145 - lr: 0.0021\n",
            "Epoch 14/20\n",
            "79/79 [==============================] - 14s 173ms/step - loss: 0.5115 - accuracy: 0.8748 - val_loss: 0.3781 - val_accuracy: 0.9174 - lr: 0.0017\n",
            "Epoch 15/20\n",
            "79/79 [==============================] - 14s 173ms/step - loss: 0.4857 - accuracy: 0.8802 - val_loss: 0.3821 - val_accuracy: 0.9159 - lr: 0.0017\n",
            "Epoch 16/20\n",
            "79/79 [==============================] - 14s 173ms/step - loss: 0.4861 - accuracy: 0.8799 - val_loss: 0.3912 - val_accuracy: 0.9102 - lr: 0.0017\n",
            "Epoch 17/20\n",
            "78/79 [============================>.] - ETA: 0s - loss: 0.4963 - accuracy: 0.8775\n",
            "Epoch 17: ReduceLROnPlateau reducing learning rate to 0.0013421771116554739.\n",
            "79/79 [==============================] - 14s 173ms/step - loss: 0.4961 - accuracy: 0.8776 - val_loss: 0.3936 - val_accuracy: 0.9124 - lr: 0.0017\n",
            "Epoch 18/20\n",
            "79/79 [==============================] - 14s 173ms/step - loss: 0.4601 - accuracy: 0.8830 - val_loss: 0.3716 - val_accuracy: 0.9138 - lr: 0.0013\n",
            "Epoch 19/20\n",
            "79/79 [==============================] - 14s 173ms/step - loss: 0.4503 - accuracy: 0.8857 - val_loss: 0.3683 - val_accuracy: 0.9134 - lr: 0.0013\n",
            "Epoch 20/20\n",
            "79/79 [==============================] - 14s 172ms/step - loss: 0.4656 - accuracy: 0.8840 - val_loss: 0.3968 - val_accuracy: 0.9047 - lr: 0.0013\n",
            "fold_count = 4\n",
            "Epoch 1/20\n",
            "79/79 [==============================] - 14s 173ms/step - loss: 0.4963 - accuracy: 0.8749 - val_loss: 0.2749 - val_accuracy: 0.9522 - lr: 0.0013\n",
            "Epoch 2/20\n",
            "79/79 [==============================] - 14s 172ms/step - loss: 0.4744 - accuracy: 0.8788 - val_loss: 0.2781 - val_accuracy: 0.9492 - lr: 0.0013\n",
            "Epoch 3/20\n",
            "79/79 [==============================] - 14s 171ms/step - loss: 0.4751 - accuracy: 0.8779 - val_loss: 0.2693 - val_accuracy: 0.9542 - lr: 0.0013\n",
            "Epoch 4/20\n",
            "79/79 [==============================] - 14s 172ms/step - loss: 0.4700 - accuracy: 0.8795 - val_loss: 0.2666 - val_accuracy: 0.9527 - lr: 0.0013\n",
            "Epoch 5/20\n",
            "79/79 [==============================] - 14s 173ms/step - loss: 0.4756 - accuracy: 0.8792 - val_loss: 0.2944 - val_accuracy: 0.9454 - lr: 0.0013\n",
            "Epoch 6/20\n",
            "79/79 [==============================] - 14s 173ms/step - loss: 0.4667 - accuracy: 0.8818 - val_loss: 0.2734 - val_accuracy: 0.9528 - lr: 0.0013\n",
            "Epoch 7/20\n",
            "78/79 [============================>.] - ETA: 0s - loss: 0.4626 - accuracy: 0.8820\n",
            "Epoch 7: ReduceLROnPlateau reducing learning rate to 0.001073741726577282.\n",
            "79/79 [==============================] - 14s 173ms/step - loss: 0.4627 - accuracy: 0.8820 - val_loss: 0.2959 - val_accuracy: 0.9446 - lr: 0.0013\n",
            "Epoch 8/20\n",
            "79/79 [==============================] - 14s 173ms/step - loss: 0.4469 - accuracy: 0.8835 - val_loss: 0.2650 - val_accuracy: 0.9489 - lr: 0.0011\n",
            "Epoch 9/20\n",
            "79/79 [==============================] - 14s 173ms/step - loss: 0.4332 - accuracy: 0.8886 - val_loss: 0.2617 - val_accuracy: 0.9509 - lr: 0.0011\n",
            "Epoch 10/20\n",
            "79/79 [==============================] - 14s 173ms/step - loss: 0.4285 - accuracy: 0.8889 - val_loss: 0.2661 - val_accuracy: 0.9459 - lr: 0.0011\n",
            "Epoch 11/20\n",
            "79/79 [==============================] - 14s 173ms/step - loss: 0.4277 - accuracy: 0.8857 - val_loss: 0.2545 - val_accuracy: 0.9512 - lr: 0.0011\n",
            "Epoch 12/20\n",
            "79/79 [==============================] - 14s 173ms/step - loss: 0.4173 - accuracy: 0.8913 - val_loss: 0.2509 - val_accuracy: 0.9523 - lr: 0.0011\n",
            "Epoch 13/20\n",
            "79/79 [==============================] - 14s 173ms/step - loss: 0.4249 - accuracy: 0.8891 - val_loss: 0.2620 - val_accuracy: 0.9478 - lr: 0.0011\n",
            "Epoch 14/20\n",
            "79/79 [==============================] - 14s 173ms/step - loss: 0.4177 - accuracy: 0.8906 - val_loss: 0.2926 - val_accuracy: 0.9395 - lr: 0.0011\n",
            "Epoch 15/20\n",
            "78/79 [============================>.] - ETA: 0s - loss: 0.4253 - accuracy: 0.8908\n",
            "Epoch 15: ReduceLROnPlateau reducing learning rate to 0.0008589933626353742.\n",
            "79/79 [==============================] - 14s 173ms/step - loss: 0.4256 - accuracy: 0.8906 - val_loss: 0.2668 - val_accuracy: 0.9478 - lr: 0.0011\n",
            "Epoch 16/20\n",
            "79/79 [==============================] - 14s 173ms/step - loss: 0.4142 - accuracy: 0.8927 - val_loss: 0.2542 - val_accuracy: 0.9481 - lr: 8.5899e-04\n",
            "Epoch 17/20\n",
            "79/79 [==============================] - 14s 173ms/step - loss: 0.3936 - accuracy: 0.8956 - val_loss: 0.2464 - val_accuracy: 0.9494 - lr: 8.5899e-04\n",
            "Epoch 18/20\n",
            "79/79 [==============================] - 14s 173ms/step - loss: 0.3797 - accuracy: 0.8980 - val_loss: 0.2619 - val_accuracy: 0.9403 - lr: 8.5899e-04\n",
            "Epoch 19/20\n",
            "79/79 [==============================] - 14s 180ms/step - loss: 0.3952 - accuracy: 0.8969 - val_loss: 0.2489 - val_accuracy: 0.9482 - lr: 8.5899e-04\n",
            "Epoch 20/20\n",
            "78/79 [============================>.] - ETA: 0s - loss: 0.3881 - accuracy: 0.8973\n",
            "Epoch 20: ReduceLROnPlateau reducing learning rate to 0.0006871947087347508.\n",
            "79/79 [==============================] - 14s 174ms/step - loss: 0.3886 - accuracy: 0.8971 - val_loss: 0.2613 - val_accuracy: 0.9448 - lr: 8.5899e-04\n"
          ]
        }
      ],
      "source": [
        "with tf.device('/device:GPU:0'):\n",
        "  fold_count = 0\n",
        "  for train_idx, validataion_idx in kfold.split(shuffle_images): # shuffle_images (5만개)의 데이터를 kfold\n",
        "    X_train , X_valid = shuffle_images[train_idx] , shuffle_images[validataion_idx]\n",
        "    y_train , y_valid = shuffle_labels[train_idx] , shuffle_labels[validataion_idx]\n",
        "\n",
        "    print(\"fold_count =\",fold_count)\n",
        "    # cb_early_stopping = EarlyStopping(monitor='val_loss', patience=8,verbose= 1) # 현재는 earlystop을 사용하지 않음(why? > k-fold를 통해 최대한 학습을 하고 싶음)\n",
        "    reduce_lr = ReduceLROnPlateau(monitor='val_loss', factor=0.8, patience=3, min_lr=0.0001,verbose = 1) # 학습률을 0.0001까지 줄일수 있음\n",
        "\n",
        "    history = model.fit(X_train, y_train, validation_data=(X_valid, y_valid), epochs=20, batch_size=512, \n",
        "              callbacks=[reduce_lr],shuffle=True)\n",
        "    fold_count += 1"
      ]
    },
    {
      "cell_type": "markdown",
      "metadata": {
        "id": "j3QQ7_WbavOH"
      },
      "source": [
        "# 결과 시각화\n",
        "## 여기서는 마지막 k-fold의 데이터만 시각화를 해서 그래프가 이상함. (수정예정)"
      ]
    },
    {
      "cell_type": "code",
      "execution_count": null,
      "metadata": {
        "colab": {
          "base_uri": "https://localhost:8080/",
          "height": 573
        },
        "id": "9zeXSAdxX86k",
        "outputId": "b02dee75-7e81-4387-be40-3b49feba9c91"
      },
      "outputs": [
        {
          "data": {
            "image/png": "[encoded data removed]",
            "text/plain": [
              "<Figure size 432x288 with 1 Axes>"
            ]
          },
          "metadata": {
            "needs_background": "light"
          },
          "output_type": "display_data"
        },
        {
          "data": {
            "image/png": "[encoded data removed]",
            "text/plain": [
              "<Figure size 432x288 with 1 Axes>"
            ]
          },
          "metadata": {
            "needs_background": "light"
          },
          "output_type": "display_data"
        }
      ],
      "source": [
        "import matplotlib.pyplot as plot\n",
        "\n",
        "plot.plot(history.history['accuracy'])\n",
        "plot.plot(history.history['val_accuracy'])\n",
        "plot.title('Model accuracy')\n",
        "plot.ylabel('Accuracy')\n",
        "plot.xlabel('Epoch')\n",
        "plot.legend(['Train', 'Test'], loc='upper left')\n",
        "plot.show()\n",
        "\n",
        "plot.plot(history.history['loss'])\n",
        "plot.plot(history.history['val_loss'])\n",
        "plot.title('Model loss')\n",
        "plot.ylabel('Loss')\n",
        "plot.xlabel('Epoch')\n",
        "plot.legend(['Train', 'Test'], loc='upper left')\n",
        "plot.show()"
      ]
    },
    {
      "cell_type": "code",
      "execution_count": null,
      "metadata": {
        "colab": {
          "base_uri": "https://localhost:8080/"
        },
        "id": "BH9RKyU1PHYm",
        "outputId": "b114fc8e-f283-4d08-8f13-75d1bd1f9415"
      },
      "outputs": [
        {
          "data": {
            "text/plain": [
              "array(['horse', 'bird', 'airplane', 'cat', 'airplane'], dtype='<U10')"
            ]
          },
          "execution_count": 26,
          "metadata": {},
          "output_type": "execute_result"
        }
      ],
      "source": [
        "pred_proba = model.predict(test_images) \n",
        "\n",
        "pred_class = []\n",
        "\n",
        "for i in pred_proba:\n",
        "    pred = np.argmax(i)\n",
        "    pred_class.append(pred)\n",
        "    \n",
        "pred_class = le.inverse_transform(pred_class)\n",
        "pred_class[0:5]"
      ]
    },
    {
      "cell_type": "code",
      "execution_count": null,
      "metadata": {
        "id": "iTAfD8N9PHvL"
      },
      "outputs": [],
      "source": [
        "import pandas as pd\n",
        "\n",
        "sample_submission = pd.read_csv(\"/content/drive/MyDrive/[데이콘] 사물 이미지 분류/dataset/sample_submission.csv\")\n",
        "\n",
        "sample_submission.target = pred_class\n",
        "sample_submission.to_csv(\"submit.csv\",index=False)"
      ]
    },
    {
      "cell_type": "code",
      "execution_count": null,
      "metadata": {
        "colab": {
          "base_uri": "https://localhost:8080/",
          "height": 206
        },
        "id": "mER-BrpLgh_t",
        "outputId": "41f35924-27b8-4e90-ffee-4596d93e0910"
      },
      "outputs": [
        {
          "data": {
            "text/html": [
              "\n",
              "  <div id=\"df-e73ac841-1337-4fa4-8e03-f7645e4f8c9d\">\n",
              "    <div class=\"colab-df-container\">\n",
              "      <div>\n",
              "<style scoped>\n",
              "    .dataframe tbody tr th:only-of-type {\n",
              "        vertical-align: middle;\n",
              "    }\n",
              "\n",
              "    .dataframe tbody tr th {\n",
              "        vertical-align: top;\n",
              "    }\n",
              "\n",
              "    .dataframe thead th {\n",
              "        text-align: right;\n",
              "    }\n",
              "</style>\n",
              "<table border=\"1\" class=\"dataframe\">\n",
              "  <thead>\n",
              "    <tr style=\"text-align: right;\">\n",
              "      <th></th>\n",
              "      <th>id</th>\n",
              "      <th>target</th>\n",
              "    </tr>\n",
              "  </thead>\n",
              "  <tbody>\n",
              "    <tr>\n",
              "      <th>0</th>\n",
              "      <td>0000.jpg</td>\n",
              "      <td>horse</td>\n",
              "    </tr>\n",
              "    <tr>\n",
              "      <th>1</th>\n",
              "      <td>0001.jpg</td>\n",
              "      <td>bird</td>\n",
              "    </tr>\n",
              "    <tr>\n",
              "      <th>2</th>\n",
              "      <td>0002.jpg</td>\n",
              "      <td>airplane</td>\n",
              "    </tr>\n",
              "    <tr>\n",
              "      <th>3</th>\n",
              "      <td>0003.jpg</td>\n",
              "      <td>cat</td>\n",
              "    </tr>\n",
              "    <tr>\n",
              "      <th>4</th>\n",
              "      <td>0004.jpg</td>\n",
              "      <td>airplane</td>\n",
              "    </tr>\n",
              "  </tbody>\n",
              "</table>\n",
              "</div>\n",
              "      <button class=\"colab-df-convert\" onclick=\"convertToInteractive('df-e73ac841-1337-4fa4-8e03-f7645e4f8c9d')\"\n",
              "              title=\"Convert this dataframe to an interactive table.\"\n",
              "              style=\"display:none;\">\n",
              "        \n",
              "  <svg xmlns=\"http://www.w3.org/2000/svg\" height=\"24px\"viewBox=\"0 0 24 24\"\n",
              "       width=\"24px\">\n",
              "    <path d=\"M0 0h24v24H0V0z\" fill=\"none\"/>\n",
              "    <path d=\"M18.56 5.44l.94 2.06.94-2.06 2.06-.94-2.06-.94-.94-2.06-.94 2.06-2.06.94zm-11 1L8.5 8.5l.94-2.06 2.06-.94-2.06-.94L8.5 2.5l-.94 2.06-2.06.94zm10 10l.94 2.06.94-2.06 2.06-.94-2.06-.94-.94-2.06-.94 2.06-2.06.94z\"/><path d=\"M17.41 7.96l-1.37-1.37c-.4-.4-.92-.59-1.43-.59-.52 0-1.04.2-1.43.59L10.3 9.45l-7.72 7.72c-.78.78-.78 2.05 0 2.83L4 21.41c.39.39.9.59 1.41.59.51 0 1.02-.2 1.41-.59l7.78-7.78 2.81-2.81c.8-.78.8-2.07 0-2.86zM5.41 20L4 18.59l7.72-7.72 1.47 1.35L5.41 20z\"/>\n",
              "  </svg>\n",
              "      </button>\n",
              "      \n",
              "  <style>\n",
              "    .colab-df-container {\n",
              "      display:flex;\n",
              "      flex-wrap:wrap;\n",
              "      gap: 12px;\n",
              "    }\n",
              "\n",
              "    .colab-df-convert {\n",
              "      background-color: #E8F0FE;\n",
              "      border: none;\n",
              "      border-radius: 50%;\n",
              "      cursor: pointer;\n",
              "      display: none;\n",
              "      fill: #1967D2;\n",
              "      height: 32px;\n",
              "      padding: 0 0 0 0;\n",
              "      width: 32px;\n",
              "    }\n",
              "\n",
              "    .colab-df-convert:hover {\n",
              "      background-color: #E2EBFA;\n",
              "      box-shadow: 0px 1px 2px rgba(60, 64, 67, 0.3), 0px 1px 3px 1px rgba(60, 64, 67, 0.15);\n",
              "      fill: #174EA6;\n",
              "    }\n",
              "\n",
              "    [theme=dark] .colab-df-convert {\n",
              "      background-color: #3B4455;\n",
              "      fill: #D2E3FC;\n",
              "    }\n",
              "\n",
              "    [theme=dark] .colab-df-convert:hover {\n",
              "      background-color: #434B5C;\n",
              "      box-shadow: 0px 1px 3px 1px rgba(0, 0, 0, 0.15);\n",
              "      filter: drop-shadow(0px 1px 2px rgba(0, 0, 0, 0.3));\n",
              "      fill: #FFFFFF;\n",
              "    }\n",
              "  </style>\n",
              "\n",
              "      <script>\n",
              "        const buttonEl =\n",
              "          document.querySelector('#df-e73ac841-1337-4fa4-8e03-f7645e4f8c9d button.colab-df-convert');\n",
              "        buttonEl.style.display =\n",
              "          google.colab.kernel.accessAllowed ? 'block' : 'none';\n",
              "\n",
              "        async function convertToInteractive(key) {\n",
              "          const element = document.querySelector('#df-e73ac841-1337-4fa4-8e03-f7645e4f8c9d');\n",
              "          const dataTable =\n",
              "            await google.colab.kernel.invokeFunction('convertToInteractive',\n",
              "                                                     [key], {});\n",
              "          if (!dataTable) return;\n",
              "\n",
              "          const docLinkHtml = 'Like what you see? Visit the ' +\n",
              "            '<a target=\"_blank\" href=https://colab.research.google.com/notebooks/data_table.ipynb>data table notebook</a>'\n",
              "            + ' to learn more about interactive tables.';\n",
              "          element.innerHTML = '';\n",
              "          dataTable['output_type'] = 'display_data';\n",
              "          await google.colab.output.renderOutput(dataTable, element);\n",
              "          const docLink = document.createElement('div');\n",
              "          docLink.innerHTML = docLinkHtml;\n",
              "          element.appendChild(docLink);\n",
              "        }\n",
              "      </script>\n",
              "    </div>\n",
              "  </div>\n",
              "  "
            ],
            "text/plain": [
              "         id    target\n",
              "0  0000.jpg     horse\n",
              "1  0001.jpg      bird\n",
              "2  0002.jpg  airplane\n",
              "3  0003.jpg       cat\n",
              "4  0004.jpg  airplane"
            ]
          },
          "execution_count": 28,
          "metadata": {},
          "output_type": "execute_result"
        }
      ],
      "source": [
        "sample_submission.head()"
      ]
    },
    {
      "cell_type": "markdown",
      "metadata": {
        "id": "R1SRcyqDa7Se"
      },
      "source": [
        "# 끝!"
      ]
    }
  ],
  "metadata": {
    "accelerator": "GPU",
    "colab": {
      "collapsed_sections": [],
      "name": "advance_basecode + non data generate_코드업용.ipynb",
      "provenance": []
    },
    "kernelspec": {
      "display_name": "Python 3",
      "name": "python3"
    },
    "language_info": {
      "codemirror_mode": {
        "name": "ipython",
        "version": 3
      },
      "file_extension": ".py",
      "mimetype": "text/x-python",
      "name": "python",
      "nbconvert_exporter": "python",
      "pygments_lexer": "ipython3",
      "version": "3.8.12"
    }
  },
  "nbformat": 4,
  "nbformat_minor": 0
}
