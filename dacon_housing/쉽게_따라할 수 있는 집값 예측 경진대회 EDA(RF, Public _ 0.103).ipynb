{
 "cells": [
  {
   "cell_type": "markdown",
   "metadata": {
    "id": "5EqYmTz-QlHI"
   },
   "source": [
    "# 집값 예측 경진대회"
   ]
  },
  {
   "cell_type": "markdown",
   "metadata": {
    "id": "odG5-8LvQlJG"
   },
   "source": [
    "# 데이터 불러오기"
   ]
  },
  {
   "cell_type": "code",
   "execution_count": 50,
   "metadata": {
    "colab": {
     "base_uri": "https://localhost:8080/",
     "height": 267
    },
    "id": "R367r9xqQkZY",
    "outputId": "a88cdb56-65a5-4872-bf72-c8951c64b965"
   },
   "outputs": [
    {
     "data": {
      "text/html": [
       "<div>\n",
       "<style scoped>\n",
       "    .dataframe tbody tr th:only-of-type {\n",
       "        vertical-align: middle;\n",
       "    }\n",
       "\n",
       "    .dataframe tbody tr th {\n",
       "        vertical-align: top;\n",
       "    }\n",
       "\n",
       "    .dataframe thead th {\n",
       "        text-align: right;\n",
       "    }\n",
       "</style>\n",
       "<table border=\"1\" class=\"dataframe\">\n",
       "  <thead>\n",
       "    <tr style=\"text-align: right;\">\n",
       "      <th></th>\n",
       "      <th>id</th>\n",
       "      <th>Overall Qual</th>\n",
       "      <th>Gr Liv Area</th>\n",
       "      <th>Exter Qual</th>\n",
       "      <th>Garage Cars</th>\n",
       "      <th>Garage Area</th>\n",
       "      <th>Kitchen Qual</th>\n",
       "      <th>Total Bsmt SF</th>\n",
       "      <th>1st Flr SF</th>\n",
       "      <th>Bsmt Qual</th>\n",
       "      <th>Full Bath</th>\n",
       "      <th>Year Built</th>\n",
       "      <th>Year Remod/Add</th>\n",
       "      <th>Garage Yr Blt</th>\n",
       "      <th>target</th>\n",
       "    </tr>\n",
       "  </thead>\n",
       "  <tbody>\n",
       "    <tr>\n",
       "      <th>0</th>\n",
       "      <td>1</td>\n",
       "      <td>10</td>\n",
       "      <td>2392</td>\n",
       "      <td>Ex</td>\n",
       "      <td>3</td>\n",
       "      <td>968</td>\n",
       "      <td>Ex</td>\n",
       "      <td>2392</td>\n",
       "      <td>2392</td>\n",
       "      <td>Ex</td>\n",
       "      <td>2</td>\n",
       "      <td>2003</td>\n",
       "      <td>2003</td>\n",
       "      <td>2003</td>\n",
       "      <td>386250</td>\n",
       "    </tr>\n",
       "    <tr>\n",
       "      <th>1</th>\n",
       "      <td>2</td>\n",
       "      <td>7</td>\n",
       "      <td>1352</td>\n",
       "      <td>Gd</td>\n",
       "      <td>2</td>\n",
       "      <td>466</td>\n",
       "      <td>Gd</td>\n",
       "      <td>1352</td>\n",
       "      <td>1352</td>\n",
       "      <td>Ex</td>\n",
       "      <td>2</td>\n",
       "      <td>2006</td>\n",
       "      <td>2007</td>\n",
       "      <td>2006</td>\n",
       "      <td>194000</td>\n",
       "    </tr>\n",
       "    <tr>\n",
       "      <th>2</th>\n",
       "      <td>3</td>\n",
       "      <td>5</td>\n",
       "      <td>900</td>\n",
       "      <td>TA</td>\n",
       "      <td>1</td>\n",
       "      <td>288</td>\n",
       "      <td>TA</td>\n",
       "      <td>864</td>\n",
       "      <td>900</td>\n",
       "      <td>TA</td>\n",
       "      <td>1</td>\n",
       "      <td>1967</td>\n",
       "      <td>1967</td>\n",
       "      <td>1967</td>\n",
       "      <td>123000</td>\n",
       "    </tr>\n",
       "    <tr>\n",
       "      <th>3</th>\n",
       "      <td>4</td>\n",
       "      <td>5</td>\n",
       "      <td>1174</td>\n",
       "      <td>TA</td>\n",
       "      <td>2</td>\n",
       "      <td>576</td>\n",
       "      <td>Gd</td>\n",
       "      <td>680</td>\n",
       "      <td>680</td>\n",
       "      <td>TA</td>\n",
       "      <td>1</td>\n",
       "      <td>1900</td>\n",
       "      <td>2006</td>\n",
       "      <td>2000</td>\n",
       "      <td>135000</td>\n",
       "    </tr>\n",
       "    <tr>\n",
       "      <th>4</th>\n",
       "      <td>5</td>\n",
       "      <td>7</td>\n",
       "      <td>1958</td>\n",
       "      <td>Gd</td>\n",
       "      <td>3</td>\n",
       "      <td>936</td>\n",
       "      <td>Gd</td>\n",
       "      <td>1026</td>\n",
       "      <td>1026</td>\n",
       "      <td>Gd</td>\n",
       "      <td>2</td>\n",
       "      <td>2005</td>\n",
       "      <td>2005</td>\n",
       "      <td>2005</td>\n",
       "      <td>250000</td>\n",
       "    </tr>\n",
       "  </tbody>\n",
       "</table>\n",
       "</div>"
      ],
      "text/plain": [
       "   id  Overall Qual  Gr Liv Area Exter Qual  Garage Cars  Garage Area  \\\n",
       "0   1            10         2392         Ex            3          968   \n",
       "1   2             7         1352         Gd            2          466   \n",
       "2   3             5          900         TA            1          288   \n",
       "3   4             5         1174         TA            2          576   \n",
       "4   5             7         1958         Gd            3          936   \n",
       "\n",
       "  Kitchen Qual  Total Bsmt SF  1st Flr SF Bsmt Qual  Full Bath  Year Built  \\\n",
       "0           Ex           2392        2392        Ex          2        2003   \n",
       "1           Gd           1352        1352        Ex          2        2006   \n",
       "2           TA            864         900        TA          1        1967   \n",
       "3           Gd            680         680        TA          1        1900   \n",
       "4           Gd           1026        1026        Gd          2        2005   \n",
       "\n",
       "   Year Remod/Add  Garage Yr Blt  target  \n",
       "0            2003           2003  386250  \n",
       "1            2007           2006  194000  \n",
       "2            1967           1967  123000  \n",
       "3            2006           2000  135000  \n",
       "4            2005           2005  250000  "
      ]
     },
     "execution_count": 50,
     "metadata": {},
     "output_type": "execute_result"
    }
   ],
   "source": [
    "import pandas as pd\n",
    "import numpy as np\n",
    "import matplotlib.pyplot as plt\n",
    "import seaborn as sns\n",
    "from scipy import stats\n",
    "\n",
    "import warnings\n",
    "warnings.filterwarnings(\"ignore\")\n",
    "\n",
    "path = 'data/'\n",
    "\n",
    "train = pd.read_csv(path + 'train.csv')\n",
    "test = pd.read_csv(path + 'test.csv')\n",
    "sample_submission = pd.read_csv(path + 'sample_submission.csv')\n",
    "train.head()"
   ]
  },
  {
   "cell_type": "markdown",
   "metadata": {
    "id": "6ubQaASiQywa"
   },
   "source": [
    "이 코드를 그대로 사용하신다면 path 위치를 파일 저장하신 곳으로 지정하시면 됩니다."
   ]
  },
  {
   "cell_type": "code",
   "execution_count": 51,
   "metadata": {
    "colab": {
     "base_uri": "https://localhost:8080/"
    },
    "id": "sJCd8HYJQ8x1",
    "outputId": "a1fb320e-b17c-4300-b550-6b525dac4071"
   },
   "outputs": [
    {
     "name": "stdout",
     "output_type": "stream",
     "text": [
      "(1350, 15)\n",
      "(1350, 14)\n"
     ]
    }
   ],
   "source": [
    "print(train.shape)\n",
    "print(test.shape) #target이 없으므로"
   ]
  },
  {
   "cell_type": "markdown",
   "metadata": {
    "id": "aued7o2HRDGG"
   },
   "source": [
    "학습 데이터, 테스트 데이터 모두 1350개이며 변수는 총 14개입니다."
   ]
  },
  {
   "cell_type": "code",
   "execution_count": 52,
   "metadata": {
    "colab": {
     "base_uri": "https://localhost:8080/"
    },
    "id": "nq675dJueeF-",
    "outputId": "b30c92dd-6aa6-4b29-a73f-814936264c96"
   },
   "outputs": [
    {
     "name": "stdout",
     "output_type": "stream",
     "text": [
      "<class 'pandas.core.frame.DataFrame'>\n",
      "RangeIndex: 1350 entries, 0 to 1349\n",
      "Data columns (total 15 columns):\n",
      " #   Column          Non-Null Count  Dtype \n",
      "---  ------          --------------  ----- \n",
      " 0   id              1350 non-null   int64 \n",
      " 1   Overall Qual    1350 non-null   int64 \n",
      " 2   Gr Liv Area     1350 non-null   int64 \n",
      " 3   Exter Qual      1350 non-null   object\n",
      " 4   Garage Cars     1350 non-null   int64 \n",
      " 5   Garage Area     1350 non-null   int64 \n",
      " 6   Kitchen Qual    1350 non-null   object\n",
      " 7   Total Bsmt SF   1350 non-null   int64 \n",
      " 8   1st Flr SF      1350 non-null   int64 \n",
      " 9   Bsmt Qual       1350 non-null   object\n",
      " 10  Full Bath       1350 non-null   int64 \n",
      " 11  Year Built      1350 non-null   int64 \n",
      " 12  Year Remod/Add  1350 non-null   int64 \n",
      " 13  Garage Yr Blt   1350 non-null   int64 \n",
      " 14  target          1350 non-null   int64 \n",
      "dtypes: int64(12), object(3)\n",
      "memory usage: 158.3+ KB\n"
     ]
    }
   ],
   "source": [
    "train.info() #앞에서 본 isnu 메소드를 쓴 함수를 대체하는 info "
   ]
  },
  {
   "cell_type": "markdown",
   "metadata": {
    "id": "LInxS2n_egcK"
   },
   "source": [
    "결측치는 없는 것으로 관찰됩니다."
   ]
  },
  {
   "cell_type": "markdown",
   "metadata": {
    "id": "pMBY2YQaKPlC"
   },
   "source": [
    "# 타겟 변수 관찰"
   ]
  },
  {
   "cell_type": "markdown",
   "metadata": {
    "id": "LtBd_shZKVp1"
   },
   "source": [
    "회귀 문제를 다룰때는 개인적인 경험으로 타겟 변수의 분포가 상당히 중요하다고 생각하기 때문에 가장 먼저 살펴보는 편 입니다.\n",
    "\n",
    "이 데이터의 타겟 변수는 집값 변수입니다. 특이한 이상치가 없는지, 정규분포와 유사한 모양을 따르는지를 중점적으로 관찰하겠습니다. "
   ]
  },
  {
   "cell_type": "code",
   "execution_count": 53,
   "metadata": {
    "colab": {
     "base_uri": "https://localhost:8080/",
     "height": 374
    },
    "id": "HZivUxYWJ-83",
    "outputId": "6efafabd-f7a9-4e50-d4e7-831e04d8bfdc"
   },
   "outputs": [
    {
     "data": {
      "image/png": "[encoded data removed]",
      "text/plain": [
       "<Figure size 576x432 with 1 Axes>"
      ]
     },
     "metadata": {
      "needs_background": "light"
     },
     "output_type": "display_data"
    }
   ],
   "source": [
    "plt.figure(figsize=(8,6))\n",
    "plt.scatter(range(train.shape[0]), np.sort(train['target'].values))\n",
    "plt.show()"
   ]
  },
  {
   "cell_type": "markdown",
   "metadata": {
    "id": "8br4K-OOLBCT"
   },
   "source": [
    "집값을 크기순으로 정렬한 뒤 그래프로 관찰했습니다. \n",
    "\n",
    "과하게 0과 가까운 점이 하나 관찰되고, 50만보다 큰 데이터 또한 띄엄띄엄 관찰됩니다.\n",
    "\n",
    "데이터 크기가 거대하지 않기 때문에 과연 이상치인지 다른 변수를 살펴본 뒤 다시 관찰하겠습니다."
   ]
  },
  {
   "cell_type": "code",
   "execution_count": 54,
   "metadata": {
    "colab": {
     "base_uri": "https://localhost:8080/",
     "height": 308
    },
    "id": "bmq4EHWOJUtA",
    "outputId": "026cfe2e-9807-4bd8-84a8-c68efea10bb5"
   },
   "outputs": [
    {
     "data": {
      "text/plain": [
       "<AxesSubplot:xlabel='target', ylabel='Density'>"
      ]
     },
     "execution_count": 54,
     "metadata": {},
     "output_type": "execute_result"
    },
    {
     "data": {
      "image/png": "[encoded data removed]",
      "text/plain": [
       "<Figure size 432x288 with 1 Axes>"
      ]
     },
     "metadata": {
      "needs_background": "light"
     },
     "output_type": "display_data"
    }
   ],
   "source": [
    "sns.distplot(train['target'], fit=stats.norm)"
   ]
  },
  {
   "cell_type": "markdown",
   "metadata": {
    "id": "IbaWpGQnLmLK"
   },
   "source": [
    "타겟 변수의 정규성에 대해서 살펴봤습니다. 파란색이 실제 데이터의 히스토그램이고 검은색이 정규분포임을 가정한 그래프입니다.\n",
    "\n",
    "확실히 오른쪽 꼬리가 긴 모습인데, 집 값 데이터임을 감안하고 보면 납득이 되는 결과입니다.\n",
    "\n",
    "하지만 데이터 분석을 할때는 다소 부적절할 것 같아서 로그변환을 적극적으로 검토해보겠습니다."
   ]
  },
  {
   "cell_type": "code",
   "execution_count": 55,
   "metadata": {
    "colab": {
     "base_uri": "https://localhost:8080/",
     "height": 297
    },
    "id": "gpLNDNAAJ3ua",
    "outputId": "6c6927db-2d44-4d0f-a40b-a088ab518fd4"
   },
   "outputs": [
    {
     "data": {
      "text/plain": [
       "<AxesSubplot:xlabel='target', ylabel='Density'>"
      ]
     },
     "execution_count": 55,
     "metadata": {},
     "output_type": "execute_result"
    },
    {
     "data": {
      "image/png": "[encoded data removed]",
      "text/plain": [
       "<Figure size 432x288 with 1 Axes>"
      ]
     },
     "metadata": {
      "needs_background": "light"
     },
     "output_type": "display_data"
    }
   ],
   "source": [
    "sns.distplot(np.log1p(train['target']), fit=stats.norm)"
   ]
  },
  {
   "cell_type": "markdown",
   "metadata": {
    "id": "1n_sjr96MKky"
   },
   "source": [
    "타겟 변수를 로그변환한 뒤 정규성을 확인했습니다. 이전보다 확실히 정규분포에 가깝습니다.\n",
    "\n",
    "다만 이전에 관찰한 0과 가까운 집값 데이터 때문인지 9 근처에 데이터 하나가 잡히는게 신경쓰이네요."
   ]
  },
  {
   "cell_type": "markdown",
   "metadata": {
    "id": "xYdGT8cvQ6tL"
   },
   "source": [
    "# 이산형 변수 관찰"
   ]
  },
  {
   "cell_type": "markdown",
   "metadata": {
    "id": "4emHNl0oaGwI"
   },
   "source": [
    "# Overall Qual 변수"
   ]
  },
  {
   "cell_type": "code",
   "execution_count": 56,
   "metadata": {
    "colab": {
     "base_uri": "https://localhost:8080/"
    },
    "id": "fnRAOep_Q-35",
    "outputId": "4831b388-d8ee-42eb-ad65-eae9b478d0ff"
   },
   "outputs": [
    {
     "data": {
      "text/plain": [
       "5     379\n",
       "6     351\n",
       "7     307\n",
       "8     156\n",
       "4      75\n",
       "9      56\n",
       "10     15\n",
       "3       8\n",
       "2       3\n",
       "Name: Overall Qual, dtype: int64"
      ]
     },
     "execution_count": 56,
     "metadata": {},
     "output_type": "execute_result"
    }
   ],
   "source": [
    "train['Overall Qual'].value_counts() #값 카운트"
   ]
  },
  {
   "cell_type": "markdown",
   "metadata": {
    "id": "ritr_xnVHchX"
   },
   "source": [
    "Overall Qual 변수는 전반적 재료와 마감품질 변수입니다.\n",
    "\n",
    "이 변수는 2부터 10까지 값으로 표현되어있으며 중앙값인 5,6,7에 변수들이 몰려있는 걸 알 수 있습니다.\n",
    "\n",
    "제가 아는 통계이론으로, 개수가 30 이하의 범주는 병합하는 것이 좋기 때문에 병합을 생각하고 그래프를 그려보겠습니다."
   ]
  },
  {
   "cell_type": "code",
   "execution_count": 57,
   "metadata": {
    "colab": {
     "base_uri": "https://localhost:8080/",
     "height": 539
    },
    "id": "HHZ-tCJrHXaN",
    "outputId": "f5a92e5e-5a4a-4b4a-ce48-b4d7724d8def"
   },
   "outputs": [
    {
     "data": {
      "image/png": "[encoded data removed]",
      "text/plain": [
       "<Figure size 864x576 with 1 Axes>"
      ]
     },
     "metadata": {
      "needs_background": "light"
     },
     "output_type": "display_data"
    }
   ],
   "source": [
    "def discrete_plot(variable):    \n",
    "    plt.figure(figsize=(12,8))\n",
    "    sns.violinplot(x= train[variable], y= train['target'])\n",
    "    plt.tight_layout(rect=[0, 0.03, 1, 0.95])\n",
    "    plt.show()\n",
    "\n",
    "discrete_plot('Overall Qual')"
   ]
  },
  {
   "cell_type": "markdown",
   "metadata": {
    "id": "C9H7X1HnIagI"
   },
   "source": [
    "Overall Qual 변수는 재료 품질변수이기 때문에 값이 클 수록 집 값의 분포 또한 높게 나오는 걸 쉽계 예측할 수 있습니다.\n",
    "\n",
    "예측한 것과 실제 데이터가 일치한 지를 시각화를 해보았습니다. 예상한 결과와 크게 다르지 않습니다.\n",
    "\n",
    "또한 변수 값이 커질수록 박스 플랏이 길어진다, 즉 분산이 커지는 것도 관찰할 수 있습니다.\n",
    "\n",
    "앞서 말한대로 표본 개수가 적은 2,3 그리고 10 항목은 4와 9 항목과 병합하겠습니다.\n",
    "\n",
    "이때 테스트 데이터의 정확한 항목을 모르기 때문에 코딩은 9 이상 값은 9로, 4이하 값은 4로 하겠습니다.\n",
    "\n",
    "이후 연속형 변수들을 표준화 할 것이기 때문에 이 변수도 평균을 0과 근사하게 하기 위해 모든 값을 6.5로 빼주겠습니다."
   ]
  },
  {
   "cell_type": "code",
   "execution_count": 58,
   "metadata": {
    "id": "Gq_NnOOdaKut"
   },
   "outputs": [],
   "source": [
    "train['Overall Qual'][train['Overall Qual'] > 9] = 9\n",
    "train['Overall Qual'][train['Overall Qual'] < 4] = 4\n",
    "train['Overall Qual'] = train['Overall Qual'] - 6.5\n",
    "\n",
    "test['Overall Qual'][test['Overall Qual'] > 9] = 9\n",
    "test['Overall Qual'][test['Overall Qual'] < 4] = 4\n",
    "test['Overall Qual'] = test['Overall Qual'] - 6.5"
   ]
  },
  {
   "cell_type": "markdown",
   "metadata": {
    "id": "-3r2zctWasxb"
   },
   "source": [
    "# Exter Qual 변수"
   ]
  },
  {
   "cell_type": "code",
   "execution_count": 59,
   "metadata": {
    "colab": {
     "base_uri": "https://localhost:8080/"
    },
    "id": "a9FB0YWANBZW",
    "outputId": "fed3d242-f46c-430f-efff-f7505ffe7c7b"
   },
   "outputs": [
    {
     "data": {
      "text/plain": [
       "TA    808\n",
       "Gd    485\n",
       "Ex     49\n",
       "Fa      8\n",
       "Name: Exter Qual, dtype: int64"
      ]
     },
     "execution_count": 59,
     "metadata": {},
     "output_type": "execute_result"
    }
   ],
   "source": [
    "train['Exter Qual'].value_counts()"
   ]
  },
  {
   "cell_type": "code",
   "execution_count": 60,
   "metadata": {
    "colab": {
     "base_uri": "https://localhost:8080/"
    },
    "id": "keRP8J-5a4p1",
    "outputId": "2a4abb6d-8106-4a31-af60-2167dd981477"
   },
   "outputs": [
    {
     "data": {
      "text/plain": [
       "TA    794\n",
       "Gd    489\n",
       "Ex     58\n",
       "Fa      9\n",
       "Name: Exter Qual, dtype: int64"
      ]
     },
     "execution_count": 60,
     "metadata": {},
     "output_type": "execute_result"
    }
   ],
   "source": [
    "test['Exter Qual'].value_counts()"
   ]
  },
  {
   "cell_type": "markdown",
   "metadata": {
    "id": "_vgm-jtBOD9e"
   },
   "source": [
    "Exter Qual변수는 외관 재료 품질 변수입니다. 4등급으로 나눠진 것 같아요.\n",
    "\n",
    "구체적으로 Fair -> Typical/Average -> Good -> Excellent 순인 것 같습니다. (yun99님 코드 공유 내용을 참고했습니다.)\n",
    "\n",
    "TA, Gd. 중간 부분 등급이 많이 관찰된 모습입니다. 다만 Fa는 8개로 표본 개수가 많이 부족해보입니다.\n",
    "\n"
   ]
  },
  {
   "cell_type": "code",
   "execution_count": 61,
   "metadata": {
    "colab": {
     "base_uri": "https://localhost:8080/",
     "height": 539
    },
    "id": "cAe2t5RBNMj9",
    "outputId": "33fa2b7c-f103-4063-9fa4-54c09a69298d"
   },
   "outputs": [
    {
     "data": {
      "image/png": "[encoded data removed]",
      "text/plain": [
       "<Figure size 864x576 with 1 Axes>"
      ]
     },
     "metadata": {
      "needs_background": "light"
     },
     "output_type": "display_data"
    }
   ],
   "source": [
    "discrete_plot('Exter Qual')"
   ]
  },
  {
   "cell_type": "markdown",
   "metadata": {
    "id": "p59ilP3nOu3V"
   },
   "source": [
    "앞서 언급한 등급 순서대로 집값이 높은 것을 관찰할 수 있습니다. 예상한 결과와 같죠.\n",
    "\n",
    "Fa 항목이 표본이 작아 걱정됬는데 합리적인 결과가 나오긴 한 것 같아요. \n",
    "\n",
    "하지만 TA 항목과 큰 차이가 없기 때문에 항목 개수를 줄여준다는 차원에서 두 항목을 병합하겠습니다."
   ]
  },
  {
   "cell_type": "code",
   "execution_count": 62,
   "metadata": {
    "id": "eKa7UpSLa00q"
   },
   "outputs": [],
   "source": [
    "mapping={'Ex':1, 'Gd':0, 'TA':-1, 'Fa':-1, 'Po':-1}\n",
    "\n",
    "train['Exter Qual'] = train['Exter Qual'].map(mapping)\n",
    "test['Exter Qual'] = test['Exter Qual'].map(mapping)"
   ]
  },
  {
   "cell_type": "markdown",
   "metadata": {
    "id": "xIdNWx9dbUVj"
   },
   "source": [
    "(jujukwakwkak님의 코드 공유 내용을 참고했습니다.)\n",
    "\n",
    "범주형 값이기 때문에 분석 가능한 숫자 값으로 변환했습니다. 좋은 항목일 수록 큰 값을 배치했는데 일종의 라벨-인코딩입니다.\n",
    "\n",
    "추후에 연속형 변수들을 표준화 할 예정이기 때문에 이 변수도 표준화된 값과 비슷한 형태를 유지하기 위해 값을 1, 0, -1 값을 썼습니다.\n",
    "\n",
    "또한 Ta보다 아랫 등급의 항목들은 앞서 설명한 대로 Ta와 같은 값으로 취급했습니다."
   ]
  },
  {
   "cell_type": "markdown",
   "metadata": {
    "id": "33du49-mcWKG"
   },
   "source": [
    "# Garage Cars 변수"
   ]
  },
  {
   "cell_type": "code",
   "execution_count": 63,
   "metadata": {
    "colab": {
     "base_uri": "https://localhost:8080/"
    },
    "id": "woyVf7HlPW-V",
    "outputId": "33e8fe53-203f-4f47-ff62-112311755bf9"
   },
   "outputs": [
    {
     "data": {
      "text/plain": [
       "2    794\n",
       "1    372\n",
       "3    172\n",
       "4     11\n",
       "5      1\n",
       "Name: Garage Cars, dtype: int64"
      ]
     },
     "execution_count": 63,
     "metadata": {},
     "output_type": "execute_result"
    }
   ],
   "source": [
    "train['Garage Cars'].value_counts()"
   ]
  },
  {
   "cell_type": "markdown",
   "metadata": {
    "id": "Fy6VlkDbP8Kq"
   },
   "source": [
    "Garage Cars 변수는 차고 자리 개수를 나타냅니다. 2대가 보편적인 값으로 보입니다.\n",
    "\n",
    "0이 없는걸로 봐서 표본에 있는 집은 모두 차고지가 있는 집인 것 같아요. 우리나라랑 주택 환경이 다른것 같습니다.\n",
    "\n",
    "4, 5 값은 표본이 많이 작기 때문에 값이 튈 수 있습니다. 1대, 2대, 3대 이상 방식으로 범주를 병합하는게 좋겠습니다."
   ]
  },
  {
   "cell_type": "code",
   "execution_count": 64,
   "metadata": {
    "colab": {
     "base_uri": "https://localhost:8080/",
     "height": 539
    },
    "id": "0GElHGxXPb4X",
    "outputId": "171ac2bf-04e5-4cd2-c82f-401900b6e878"
   },
   "outputs": [
    {
     "data": {
      "image/png": "[encoded data removed]",
      "text/plain": [
       "<Figure size 864x576 with 1 Axes>"
      ]
     },
     "metadata": {
      "needs_background": "light"
     },
     "output_type": "display_data"
    }
   ],
   "source": [
    "discrete_plot('Garage Cars')"
   ]
  },
  {
   "cell_type": "markdown",
   "metadata": {
    "id": "9s9DhFspQWwI"
   },
   "source": [
    "차고 자리 개수가 많을 수록 더 높은 집값을 가지는 것 같아요. 우리가 쉽게 예측할 수 있는 결과입니다.\n",
    "\n",
    "4,5 항목은 개수가 11개, 1개로 작기 때문에 값이 튀었다고 생각하고 3 항목에 포함시키는 방향이 맞을 것 같습니다."
   ]
  },
  {
   "cell_type": "code",
   "execution_count": 65,
   "metadata": {
    "id": "uGI-eCKtchuM"
   },
   "outputs": [],
   "source": [
    "train['Garage Cars'][train['Garage Cars'] > 3] = 3\n",
    "train['Garage Cars'] = train['Garage Cars'] - 2\n",
    "\n",
    "test['Garage Cars'][test['Garage Cars'] > 3] = 3\n",
    "test['Garage Cars'] = test['Garage Cars'] - 2"
   ]
  },
  {
   "cell_type": "markdown",
   "metadata": {
    "id": "vThnoRgxc6CE"
   },
   "source": [
    "테스트 데이터에 어느 값이 있을 지 모르기 때문에 (5보다 큰 값이 있을수도) 그 부분을 고려하여 코딩했습니다.\n",
    "\n",
    "마찬가지로 평균을 0에 근사시키기 위해 전체 값에 2를 빼주었습니다."
   ]
  },
  {
   "cell_type": "markdown",
   "metadata": {
    "id": "OLDX78vWcrY4"
   },
   "source": [
    "# Kitchen Qual 변수"
   ]
  },
  {
   "cell_type": "code",
   "execution_count": 66,
   "metadata": {
    "colab": {
     "base_uri": "https://localhost:8080/"
    },
    "id": "T4w-DH7_RE17",
    "outputId": "4bd874c1-c505-40e7-a944-4c6669f69a18"
   },
   "outputs": [
    {
     "data": {
      "text/plain": [
       "TA    660\n",
       "Gd    560\n",
       "Ex    107\n",
       "Fa     23\n",
       "Name: Kitchen Qual, dtype: int64"
      ]
     },
     "execution_count": 66,
     "metadata": {},
     "output_type": "execute_result"
    }
   ],
   "source": [
    "train['Kitchen Qual'].value_counts()"
   ]
  },
  {
   "cell_type": "code",
   "execution_count": 67,
   "metadata": {
    "colab": {
     "base_uri": "https://localhost:8080/"
    },
    "id": "j9RX5Xp_S9JD",
    "outputId": "fac27ca6-4edf-4cdf-b5b3-b4748fe157e4"
   },
   "outputs": [
    {
     "data": {
      "text/plain": [
       "TA    666\n",
       "Gd    566\n",
       "Ex     94\n",
       "Fa     23\n",
       "Po      1\n",
       "Name: Kitchen Qual, dtype: int64"
      ]
     },
     "execution_count": 67,
     "metadata": {},
     "output_type": "execute_result"
    }
   ],
   "source": [
    "test['Kitchen Qual'].value_counts()"
   ]
  },
  {
   "cell_type": "markdown",
   "metadata": {
    "id": "CP80Vcz1RXmz"
   },
   "source": [
    "Kitchen Qual 변수는 부엌 품질 변수입니다. 앞서 다룬 외관 품질 변수와 항목이 같습니다.\n",
    "\n",
    "이 변수 또한 중간 등급의 개수가 많이 나왔습니다. 반면 최하 등급인 Fa 항목은 23개로 개수가 많이 낮습니다.\n",
    "\n",
    "테스트 데이터에서 특이하게 Po 항목이 1개 있는데 'poor'로 Fa보다 낮은 등급이라고 생각하고 Fa 항목과 같이 취급하겠습니다."
   ]
  },
  {
   "cell_type": "code",
   "execution_count": 68,
   "metadata": {
    "colab": {
     "base_uri": "https://localhost:8080/",
     "height": 539
    },
    "id": "3B27apm4RLyi",
    "outputId": "051c528d-63e6-46a5-a574-8d309a3fe3ff"
   },
   "outputs": [
    {
     "data": {
      "image/png": "[encoded data removed]",
      "text/plain": [
       "<Figure size 864x576 with 1 Axes>"
      ]
     },
     "metadata": {
      "needs_background": "light"
     },
     "output_type": "display_data"
    }
   ],
   "source": [
    "discrete_plot('Kitchen Qual')"
   ]
  },
  {
   "cell_type": "markdown",
   "metadata": {
    "id": "qz_oUwfZR5eK"
   },
   "source": [
    "앞선 변수와 마찬가지로 품질이 좋을 수록 집값이 더 높게 나오는 쉽게 예측 가능한 결과가 나왔습니다.\n",
    "\n",
    "Fa 항목의 개수가 23개로 작은 편인데 윗 등급인 TA와 모양에 큰 차이가 없으므로 두 항목을 병합하겠습니다."
   ]
  },
  {
   "cell_type": "code",
   "execution_count": 69,
   "metadata": {
    "id": "2WPJSgWjdQt0"
   },
   "outputs": [],
   "source": [
    "mapping={'Ex':1, 'Gd':0, 'TA':-1, 'Fa':-1, 'Po':-1}\n",
    "\n",
    "train['Kitchen Qual'] = train['Kitchen Qual'].map(mapping)\n",
    "test['Kitchen Qual'] = test['Kitchen Qual'].map(mapping)"
   ]
  },
  {
   "cell_type": "markdown",
   "metadata": {
    "id": "etE_GwLFdQYy"
   },
   "source": [
    "# Bsmt Qual 변수"
   ]
  },
  {
   "cell_type": "code",
   "execution_count": 70,
   "metadata": {
    "colab": {
     "base_uri": "https://localhost:8080/"
    },
    "id": "eCbqJckvSs6x",
    "outputId": "77dd3a88-0dad-4eb5-c44c-2e7cf0c53390"
   },
   "outputs": [
    {
     "data": {
      "text/plain": [
       "TA    605\n",
       "Gd    582\n",
       "Ex    134\n",
       "Fa     28\n",
       "Po      1\n",
       "Name: Bsmt Qual, dtype: int64"
      ]
     },
     "execution_count": 70,
     "metadata": {},
     "output_type": "execute_result"
    }
   ],
   "source": [
    "train['Bsmt Qual'].value_counts()"
   ]
  },
  {
   "cell_type": "markdown",
   "metadata": {
    "id": "ee8HSNDuS2zj"
   },
   "source": [
    "Bsmt Qual 변수는 지하실 높이를 나타내는 변수라고 소개되어있으나 윗 품질 변수와 마찬가지로 생각하면 될 것 같습니다.\n",
    "\n",
    "저는 지하실 품질이라고 생각하고 변수를 분석하겠습니다.\n",
    "\n",
    "마찬가지로 중간품질의 개수가 많으며 Fa, Po 항목이 28개, 1개로 개수가 많이 적은 모습입니다."
   ]
  },
  {
   "cell_type": "code",
   "execution_count": 71,
   "metadata": {
    "colab": {
     "base_uri": "https://localhost:8080/",
     "height": 539
    },
    "id": "XobvmS2mSgP6",
    "outputId": "93fa5077-2ce2-4243-bf58-67c53fb268ed"
   },
   "outputs": [
    {
     "data": {
      "image/png": "[encoded data removed]",
      "text/plain": [
       "<Figure size 864x576 with 1 Axes>"
      ]
     },
     "metadata": {
      "needs_background": "light"
     },
     "output_type": "display_data"
    }
   ],
   "source": [
    "discrete_plot('Bsmt Qual')"
   ]
  },
  {
   "cell_type": "markdown",
   "metadata": {
    "id": "RwZffVUZUsEC"
   },
   "source": [
    "계속 비슷한 얘기를 하는 것 같은데 품질이 높을 수록 집값이 비싼 쉽계 예측되는 결과를 보여줍니다.\n",
    "\n",
    "Ta 항목과 Fa, Po 항목간 값의 차이가 크진 않다고 생각해서 항목의 개수가 작은 Fa, Po 항목은 Ta 항목과 병합하겠습니다."
   ]
  },
  {
   "cell_type": "code",
   "execution_count": 72,
   "metadata": {
    "id": "B88hKK0PdgCH"
   },
   "outputs": [],
   "source": [
    "mapping={'Ex':1, 'Gd':0, 'TA':-1, 'Fa':-1, 'Po':-1}\n",
    "\n",
    "train['Bsmt Qual'] = train['Bsmt Qual'].map(mapping)\n",
    "test['Bsmt Qual'] = test['Bsmt Qual'].map(mapping)"
   ]
  },
  {
   "cell_type": "markdown",
   "metadata": {
    "id": "82DyRx46dfdM"
   },
   "source": [
    "# Full Bath 변수"
   ]
  },
  {
   "cell_type": "code",
   "execution_count": 73,
   "metadata": {
    "colab": {
     "base_uri": "https://localhost:8080/"
    },
    "id": "An4OxUQXVEYM",
    "outputId": "ed495d91-b7b0-4db1-e9a2-ebb85af2fa0f"
   },
   "outputs": [
    {
     "data": {
      "text/plain": [
       "2    703\n",
       "1    612\n",
       "3     27\n",
       "0      6\n",
       "4      2\n",
       "Name: Full Bath, dtype: int64"
      ]
     },
     "execution_count": 73,
     "metadata": {},
     "output_type": "execute_result"
    }
   ],
   "source": [
    "train['Full Bath'].value_counts()"
   ]
  },
  {
   "cell_type": "markdown",
   "metadata": {
    "id": "6WVe_wKZVMhh"
   },
   "source": [
    "Full Bath 변수는 지상층 화장실 개수 변수 입니다. 한국 집과 비슷하게 화장실이 1, 2개인 집이 대부분이네요.\n",
    "\n",
    "화장실이 3개있는 집이 27개로 꽤 적은 표본 개수이며 4개 혹은 0개 있는 집의 개수는 각각 6개/2개로 표본이 매우 적습니다.\n",
    "\n",
    "표본이 적은 항목은 병합을 해주는 것이 분석에도 용이하고 직관성도 올라가기 때문에 병합을 고려하고 밑 그래프로 값을 관찰하겠습니다."
   ]
  },
  {
   "cell_type": "code",
   "execution_count": 74,
   "metadata": {
    "colab": {
     "base_uri": "https://localhost:8080/",
     "height": 539
    },
    "id": "2BTm6NPEVGIe",
    "outputId": "b4c9ae53-498f-4b93-f902-802fec03a92d"
   },
   "outputs": [
    {
     "data": {
      "image/png": "[encoded data removed]",
      "text/plain": [
       "<Figure size 864x576 with 1 Axes>"
      ]
     },
     "metadata": {
      "needs_background": "light"
     },
     "output_type": "display_data"
    }
   ],
   "source": [
    "discrete_plot('Full Bath')"
   ]
  },
  {
   "cell_type": "markdown",
   "metadata": {
    "id": "Xpdr9AtaWEnN"
   },
   "source": [
    "우선 표본이 많은 화장실 개수가 1개, 2개인 두 항목의 집값을 비교해보면 직관적 관찰로는 화장실이 2개인 집이 유의미하게 집값이 비싼 것 같아요.\n",
    "\n",
    "큰 차이는 아닙니다만, 표본에 개수가 6~7백개인데 저정도 차이면 아마 통계적 가설검정을 한다면 꽤 유의미한 수치일 것입니다.\n",
    "\n",
    "0개, 3개, 4개인 항목또한 화장실 개수가 많아질수록 집 값의 평균값이 증가하는게 보이지만, 표본에 개수가 많이 작죠.\n",
    "\n",
    "0 항목은 1 항목과, 2보다 큰 항목은 2 항목과 병합을 하겠습니다. 테스트 데이터에 4보다 큰 값이 있을 수 있으니 유의해서 코딩하겠습니다.\n",
    "\n",
    "또한 평균을 0에 근사시키기 위해 값을 -1과 1로 두겠습니다.\n"
   ]
  },
  {
   "cell_type": "code",
   "execution_count": 75,
   "metadata": {
    "id": "lBf31Uledxde"
   },
   "outputs": [],
   "source": [
    "train['Full Bath'][train['Full Bath'] <= 1] = -1\n",
    "train['Full Bath'][train['Full Bath'] >= 2] = 1\n",
    "\n",
    "test['Full Bath'][test['Full Bath'] <= 1] = -1\n",
    "test['Full Bath'][test['Full Bath'] >= 2] = 1"
   ]
  },
  {
   "cell_type": "markdown",
   "metadata": {
    "id": "Pth78FuFeQ2G"
   },
   "source": [
    "# 연속형 변수 관찰"
   ]
  },
  {
   "cell_type": "markdown",
   "metadata": {
    "id": "hUReqwegxQlL"
   },
   "source": [
    "# 연속형 변수 히스토그램"
   ]
  },
  {
   "cell_type": "markdown",
   "metadata": {
    "id": "VU9X9QLnfRp9"
   },
   "source": [
    "연속형 변수는 총 7개로 지상층 면적, 차고 면적, 지하층 면적, 1층 면적, 완공 연도, 리모델링 연도, 차고 완공 연도 로 구성되어 있습니다.\n",
    "\n",
    "크게 4개의 면적과 3개의 연도로 구분할 수 있을 것 같아요."
   ]
  },
  {
   "cell_type": "code",
   "execution_count": 76,
   "metadata": {
    "colab": {
     "base_uri": "https://localhost:8080/",
     "height": 927
    },
    "id": "Gus5DhvHeG2S",
    "outputId": "7a230b5e-2863-477e-f588-c8ebde98ea81"
   },
   "outputs": [
    {
     "data": {
      "image/png": "[encoded data removed]",
      "text/plain": [
       "<Figure size 1440x1080 with 7 Axes>"
      ]
     },
     "metadata": {
      "needs_background": "light"
     },
     "output_type": "display_data"
    }
   ],
   "source": [
    "continuous_names = ['Gr Liv Area', 'Garage Area', 'Total Bsmt SF', '1st Flr SF', 'Year Built', 'Year Remod/Add', 'Garage Yr Blt']\n",
    "\n",
    "plt.figure(figsize=(20,15))\n",
    "plt.suptitle(\"Histogram\", fontsize=40)\n",
    "\n",
    "for i in range(len(continuous_names)):\n",
    "    plt.subplot(2,4,i+1)\n",
    "    plt.title(continuous_names[i])\n",
    "    plt.hist(train[continuous_names[i]])"
   ]
  },
  {
   "cell_type": "markdown",
   "metadata": {
    "id": "gXsoGXqCkLFP"
   },
   "source": [
    "연속형 변수별 히스토그램입니다. 대체로 면적 변수는 오른쪽 꼬리가 긴 형태이며 연도 변수는 최근 년도의 빈도가 높은 모습입니다.\n",
    "\n",
    "차고 완공 연도 변수의 경우 2200의 값이 있는데 연도 변수이므로 이상치로 생각해야겠습니다."
   ]
  },
  {
   "cell_type": "code",
   "execution_count": 77,
   "metadata": {
    "colab": {
     "base_uri": "https://localhost:8080/",
     "height": 142
    },
    "id": "2lAnApCbeWr7",
    "outputId": "014a87a7-e365-4c57-b125-b1dc6bd703db"
   },
   "outputs": [
    {
     "data": {
      "text/html": [
       "<div>\n",
       "<style scoped>\n",
       "    .dataframe tbody tr th:only-of-type {\n",
       "        vertical-align: middle;\n",
       "    }\n",
       "\n",
       "    .dataframe tbody tr th {\n",
       "        vertical-align: top;\n",
       "    }\n",
       "\n",
       "    .dataframe thead th {\n",
       "        text-align: right;\n",
       "    }\n",
       "</style>\n",
       "<table border=\"1\" class=\"dataframe\">\n",
       "  <thead>\n",
       "    <tr style=\"text-align: right;\">\n",
       "      <th></th>\n",
       "      <th>id</th>\n",
       "      <th>Overall Qual</th>\n",
       "      <th>Gr Liv Area</th>\n",
       "      <th>Exter Qual</th>\n",
       "      <th>Garage Cars</th>\n",
       "      <th>Garage Area</th>\n",
       "      <th>Kitchen Qual</th>\n",
       "      <th>Total Bsmt SF</th>\n",
       "      <th>1st Flr SF</th>\n",
       "      <th>Bsmt Qual</th>\n",
       "      <th>Full Bath</th>\n",
       "      <th>Year Built</th>\n",
       "      <th>Year Remod/Add</th>\n",
       "      <th>Garage Yr Blt</th>\n",
       "      <th>target</th>\n",
       "    </tr>\n",
       "  </thead>\n",
       "  <tbody>\n",
       "    <tr>\n",
       "      <th>254</th>\n",
       "      <td>255</td>\n",
       "      <td>1.5</td>\n",
       "      <td>1564</td>\n",
       "      <td>0</td>\n",
       "      <td>0</td>\n",
       "      <td>502</td>\n",
       "      <td>1</td>\n",
       "      <td>1546</td>\n",
       "      <td>1564</td>\n",
       "      <td>0</td>\n",
       "      <td>1</td>\n",
       "      <td>2006</td>\n",
       "      <td>2007</td>\n",
       "      <td>2207</td>\n",
       "      <td>267300</td>\n",
       "    </tr>\n",
       "  </tbody>\n",
       "</table>\n",
       "</div>"
      ],
      "text/plain": [
       "      id  Overall Qual  Gr Liv Area  Exter Qual  Garage Cars  Garage Area  \\\n",
       "254  255           1.5         1564           0            0          502   \n",
       "\n",
       "     Kitchen Qual  Total Bsmt SF  1st Flr SF  Bsmt Qual  Full Bath  \\\n",
       "254             1           1546        1564          0          1   \n",
       "\n",
       "     Year Built  Year Remod/Add  Garage Yr Blt  target  \n",
       "254        2006            2007           2207  267300  "
      ]
     },
     "execution_count": 77,
     "metadata": {},
     "output_type": "execute_result"
    }
   ],
   "source": [
    "train[train['Garage Yr Blt'] > 2020]"
   ]
  },
  {
   "cell_type": "markdown",
   "metadata": {
    "id": "TdT2wGdIlHZO"
   },
   "source": [
    "이상치로 추정되는 변수를 직접 관찰해보면 리모델링된 년도가 2007년 이므로 2007년 입력을 잘못해 2207로 입력한 것 같아요.\n",
    "\n",
    "이에 맞게 수정해주었습니다."
   ]
  },
  {
   "cell_type": "code",
   "execution_count": 78,
   "metadata": {
    "id": "DOrzVUQTlFBr"
   },
   "outputs": [],
   "source": [
    "train['Garage Yr Blt'][train['Garage Yr Blt'] > 2020] = 2007"
   ]
  },
  {
   "cell_type": "code",
   "execution_count": 80,
   "metadata": {},
   "outputs": [
    {
     "data": {
      "text/html": [
       "<div>\n",
       "<style scoped>\n",
       "    .dataframe tbody tr th:only-of-type {\n",
       "        vertical-align: middle;\n",
       "    }\n",
       "\n",
       "    .dataframe tbody tr th {\n",
       "        vertical-align: top;\n",
       "    }\n",
       "\n",
       "    .dataframe thead th {\n",
       "        text-align: right;\n",
       "    }\n",
       "</style>\n",
       "<table border=\"1\" class=\"dataframe\">\n",
       "  <thead>\n",
       "    <tr style=\"text-align: right;\">\n",
       "      <th></th>\n",
       "      <th>id</th>\n",
       "      <th>Overall Qual</th>\n",
       "      <th>Gr Liv Area</th>\n",
       "      <th>Exter Qual</th>\n",
       "      <th>Garage Cars</th>\n",
       "      <th>Garage Area</th>\n",
       "      <th>Kitchen Qual</th>\n",
       "      <th>Total Bsmt SF</th>\n",
       "      <th>1st Flr SF</th>\n",
       "      <th>Bsmt Qual</th>\n",
       "      <th>Full Bath</th>\n",
       "      <th>Year Built</th>\n",
       "      <th>Year Remod/Add</th>\n",
       "      <th>Garage Yr Blt</th>\n",
       "      <th>target</th>\n",
       "    </tr>\n",
       "  </thead>\n",
       "  <tbody>\n",
       "    <tr>\n",
       "      <th>254</th>\n",
       "      <td>255</td>\n",
       "      <td>1.5</td>\n",
       "      <td>1564</td>\n",
       "      <td>0</td>\n",
       "      <td>0</td>\n",
       "      <td>502</td>\n",
       "      <td>1</td>\n",
       "      <td>1546</td>\n",
       "      <td>1564</td>\n",
       "      <td>0</td>\n",
       "      <td>1</td>\n",
       "      <td>2006</td>\n",
       "      <td>2007</td>\n",
       "      <td>2007</td>\n",
       "      <td>267300</td>\n",
       "    </tr>\n",
       "  </tbody>\n",
       "</table>\n",
       "</div>"
      ],
      "text/plain": [
       "      id  Overall Qual  Gr Liv Area  Exter Qual  Garage Cars  Garage Area  \\\n",
       "254  255           1.5         1564           0            0          502   \n",
       "\n",
       "     Kitchen Qual  Total Bsmt SF  1st Flr SF  Bsmt Qual  Full Bath  \\\n",
       "254             1           1546        1564          0          1   \n",
       "\n",
       "     Year Built  Year Remod/Add  Garage Yr Blt  target  \n",
       "254        2006            2007           2007  267300  "
      ]
     },
     "execution_count": 80,
     "metadata": {},
     "output_type": "execute_result"
    }
   ],
   "source": [
    "train[train['id'] == 255] #잘 적용된 것을 확인"
   ]
  },
  {
   "cell_type": "markdown",
   "metadata": {
    "id": "OWwtZLiRxTax"
   },
   "source": [
    "# 연속형 변수 상관계수 행렬"
   ]
  },
  {
   "cell_type": "code",
   "execution_count": 81,
   "metadata": {
    "colab": {
     "base_uri": "https://localhost:8080/",
     "height": 595
    },
    "id": "l-WcbHVdlo3o",
    "outputId": "7fcbef93-7f3e-4e89-fbcc-a6d54a3702a2"
   },
   "outputs": [
    {
     "data": {
      "image/png": "[encoded data removed]",
      "text/plain": [
       "<Figure size 1080x720 with 2 Axes>"
      ]
     },
     "metadata": {
      "needs_background": "light"
     },
     "output_type": "display_data"
    }
   ],
   "source": [
    "plt.figure(figsize=(15,10))\n",
    "ax = sns.heatmap(train[continuous_names+['target']].corr(), annot=True)\n",
    "plt.show()"
   ]
  },
  {
   "cell_type": "markdown",
   "metadata": {
    "id": "xolYeJ32pQBW"
   },
   "source": [
    "전반적으로 상관계수가 상당히 높은 편입니다. 특히 면적과 연도를 나타내는 변수끼리 상관계수가 높습니다.\n",
    "\n",
    "먼저 눈에 띄는 부분은 Total Bsmt SF 와 1st Flr SF의 상관계수가 0.87로 너무나도 높다는 점 입니다. 이후에 자세히 관찰해보죠.\n",
    "\n",
    "또 완공 년도와 리모델링 년도/차고 완공 년도 간 상관계수도 상당히 높은 편인데 이것 또한 자세히 살펴보겠습니다."
   ]
  },
  {
   "cell_type": "markdown",
   "metadata": {
    "id": "C9gpxSaaxXFN"
   },
   "source": [
    "# 면적 변수들"
   ]
  },
  {
   "cell_type": "code",
   "execution_count": 82,
   "metadata": {
    "colab": {
     "base_uri": "https://localhost:8080/"
    },
    "id": "3RwlvH6uq4ZU",
    "outputId": "f45b588a-5047-47be-e1e2-b3a8e954e145"
   },
   "outputs": [
    {
     "name": "stdout",
     "output_type": "stream",
     "text": [
      "41\n",
      "690\n",
      "619\n",
      "225367.0487804878\n",
      "178311.39420289855\n",
      "192849.1292407108\n"
     ]
    }
   ],
   "source": [
    "print(sum(train['Total Bsmt SF'] > train['1st Flr SF']))\n",
    "print(sum(train['Total Bsmt SF'] == train['1st Flr SF']))\n",
    "print(sum(train['Total Bsmt SF'] < train['1st Flr SF']))\n",
    "\n",
    "print(train['target'][train['Total Bsmt SF'] > train['1st Flr SF']].mean())\n",
    "print(train['target'][train['Total Bsmt SF'] == train['1st Flr SF']].mean())\n",
    "print(train['target'][train['Total Bsmt SF'] < train['1st Flr SF']].mean())"
   ]
  },
  {
   "cell_type": "markdown",
   "metadata": {
    "id": "fT48thVottbN"
   },
   "source": [
    "Total Bsmt SF 변수는 지상층 넓이, 1st Flr SF 변수는 1층 넓이 라고 소개되어 있습니다.\n",
    "\n",
    "직관적으로 생각했을때 지상층 넓이가 1층, 2층까지 포함하는게 아닌가 생각했는데 데이터를 관찰하니 예상과 다른 결과가 나옵니다.\n",
    "\n",
    "지상층 넓이 > 1층 넓이에 해당하는 개수가 41개로 매우 적고 두 변수가 같은 경우가 690개, 지상층 < 1층 개수는 619개 입니다.\n",
    "\n",
    "잘 이해가 되지 않는 결과인데, 세 집단간 집 값의 평균값이 유의미하게 차이나는 것으로 관찰됩니다.\n",
    "\n",
    "지상층 > 1층, 지상층 == 1층, 지상층 < 1층 세 그룹으로 나눈 변수를 추가하는 것도 괜찮을 것 같아요.\n",
    "\n",
    "또 두 변수간 상관계수가 높기 때문에 한 변수만 써야하는데, 타겟 값과 상관계수가 조금 높은 Total Bsmt SF 변수를 사용하겠습니다."
   ]
  },
  {
   "cell_type": "code",
   "execution_count": 83,
   "metadata": {
    "id": "SUx4QzJGtSNr"
   },
   "outputs": [],
   "source": [
    "train['1st Flr SF'][train['Total Bsmt SF'] > train['1st Flr SF']] = -1\n",
    "train['1st Flr SF'][train['Total Bsmt SF'] == train['1st Flr SF']] = 0\n",
    "train['1st Flr SF'][train['Total Bsmt SF'] < train['1st Flr SF']] = 1\n",
    "\n",
    "train.rename(columns={'1st Flr SF':'1st - Total'}, inplace=True)\n",
    "\n",
    "test['1st Flr SF'][test['Total Bsmt SF'] > test['1st Flr SF']] = -1\n",
    "test['1st Flr SF'][test['Total Bsmt SF'] == test['1st Flr SF']] = 0\n",
    "test['1st Flr SF'][test['Total Bsmt SF'] < test['1st Flr SF']] = 1\n",
    "\n",
    "test.rename(columns={'1st Flr SF':'1st - Total'}, inplace=True)"
   ]
  },
  {
   "cell_type": "markdown",
   "metadata": {
    "id": "4pn3TWbrwx37"
   },
   "source": [
    "1st Flr SF 변수를 활용하여 원하는 코딩을 했습니다."
   ]
  },
  {
   "cell_type": "markdown",
   "metadata": {
    "id": "5drREuqfxaDB"
   },
   "source": [
    "# 연도 변수들"
   ]
  },
  {
   "cell_type": "code",
   "execution_count": 84,
   "metadata": {
    "colab": {
     "base_uri": "https://localhost:8080/"
    },
    "id": "L1om34-BmBCR",
    "outputId": "3351b44d-f96b-41e5-aa77-79312db09003"
   },
   "outputs": [
    {
     "name": "stdout",
     "output_type": "stream",
     "text": [
      "743\n",
      "0\n",
      "607\n",
      "1075\n",
      "11\n",
      "264\n"
     ]
    }
   ],
   "source": [
    "print(sum(train['Year Built'] == train['Year Remod/Add']))\n",
    "print(sum(train['Year Built'] > train['Year Remod/Add']))\n",
    "print(sum(train['Year Built'] < train['Year Remod/Add']))\n",
    "\n",
    "print(sum(train['Year Built'] == train['Garage Yr Blt']))\n",
    "print(sum(train['Year Built'] > train['Garage Yr Blt']))\n",
    "print(sum(train['Year Built'] < train['Garage Yr Blt']))"
   ]
  },
  {
   "cell_type": "markdown",
   "metadata": {
    "id": "OZsCvZxDzCto"
   },
   "source": [
    "완공 연도와 리모델링 연도가 같다면 리모델링이 없었고, 리모델링 연도가 크다면 리모델링이 있던 집입니다.\n",
    "\n",
    "리모델링 연도가 더 작다, 즉 완공연도보다 리모델링이 더 빨랐다는 비 상식적인 데이터는 다행이 관찰되지 않습니다.\n",
    "\n",
    "완공 연도와 차고 완공 연도가 같은 경우는 1075개로 매우 많은 것이 두 변수에 상관계수 관찰에서 높은 값(0.83)의 이유인 것 같습니다.\n",
    "\n",
    "특이하게 차고 완공 연도가 완공 연도보다 이른 데이터가 11개 있는데 차고를 미리 지은 집으로 생각할 수 있습니다.\n",
    "\n",
    "다만 개수가 작기 때문에 차고 완공 연도와 완공 연도가 같은 경우와 같게 생각을 하겠습니다."
   ]
  },
  {
   "cell_type": "code",
   "execution_count": 85,
   "metadata": {
    "colab": {
     "base_uri": "https://localhost:8080/"
    },
    "id": "dS6HKN5u0iEA",
    "outputId": "ff21f2d0-3015-4487-c4ba-9ba95b25bee7"
   },
   "outputs": [
    {
     "name": "stdout",
     "output_type": "stream",
     "text": [
      "183097.6589785832\n",
      "189109.34454912518\n",
      "151515.625\n",
      "194888.02670349908\n"
     ]
    }
   ],
   "source": [
    "print(train['target'][train['Year Built'] < train['Year Remod/Add']].mean())\n",
    "print(train['target'][train['Year Built'] == train['Year Remod/Add']].mean())\n",
    "\n",
    "print(train['target'][train['Year Built'] < train['Garage Yr Blt']].mean())\n",
    "print(train['target'][train['Year Built'] >= train['Garage Yr Blt']].mean())"
   ]
  },
  {
   "cell_type": "markdown",
   "metadata": {
    "id": "YYulEgvd08lL"
   },
   "source": [
    "리모델링을 한 주택과 안한 주택간 집 값 차이가 약 6천으로 크진 않으나 표본이 743, 607이기 때문에 유의미 하다고 생각하겠습니다.\n",
    "\n",
    "또 차고 완공 연도가 늦은 주택의 경우 집 값이 다소 낮은 것으로 관찰됩니다.\n",
    "\n",
    "두 요소를 각각 변수로 만들고, 집 값 변수와 상관계수가 가장 높은 완공 연도 변수를 제외하고 나머지 두 변수는 사용하지 않겠습니다."
   ]
  },
  {
   "cell_type": "code",
   "execution_count": 86,
   "metadata": {
    "id": "verH0lp81tra"
   },
   "outputs": [],
   "source": [
    "train['Year Remod/Add'][train['Year Built'] < train['Year Remod/Add']] = -1\n",
    "train['Year Remod/Add'][train['Year Built'] == train['Year Remod/Add']] = 1\n",
    "train.rename(columns={'Year Remod/Add':'Remod'}, inplace=True)\n",
    "\n",
    "train['Garage Yr Blt'][train['Year Built'] >= train['Garage Yr Blt']] = 1\n",
    "train['Garage Yr Blt'][train['Year Built'] < train['Garage Yr Blt']] = -1\n",
    "train.rename(columns={'Garage Yr Blt':'Garage'}, inplace=True)\n",
    "\n",
    "test['Year Remod/Add'][test['Year Built'] < test['Year Remod/Add']] = -1\n",
    "test['Year Remod/Add'][test['Year Built'] == test['Year Remod/Add']] = 1\n",
    "test.rename(columns={'Year Remod/Add':'Remod'}, inplace=True)\n",
    "\n",
    "test['Garage Yr Blt'][test['Year Built'] >= test['Garage Yr Blt']] = 1\n",
    "test['Garage Yr Blt'][test['Year Built'] < test['Garage Yr Blt']] = -1\n",
    "test.rename(columns={'Garage Yr Blt':'Garage'}, inplace=True)"
   ]
  },
  {
   "cell_type": "code",
   "execution_count": 87,
   "metadata": {
    "colab": {
     "base_uri": "https://localhost:8080/"
    },
    "id": "naCFvSIe23LG",
    "outputId": "4ecf3651-b576-4792-9f6b-19331936ad8d"
   },
   "outputs": [
    {
     "data": {
      "text/plain": [
       " 1    743\n",
       "-1    607\n",
       "Name: Remod, dtype: int64"
      ]
     },
     "execution_count": 87,
     "metadata": {},
     "output_type": "execute_result"
    }
   ],
   "source": [
    "train['Remod'].value_counts()"
   ]
  },
  {
   "cell_type": "code",
   "execution_count": 88,
   "metadata": {
    "colab": {
     "base_uri": "https://localhost:8080/"
    },
    "id": "MeBUYNbtmvEH",
    "outputId": "e16b3184-5f6f-40df-fc3b-2dee9513b97d"
   },
   "outputs": [
    {
     "data": {
      "text/plain": [
       " 1    1086\n",
       "-1     264\n",
       "Name: Garage, dtype: int64"
      ]
     },
     "execution_count": 88,
     "metadata": {},
     "output_type": "execute_result"
    }
   ],
   "source": [
    "train['Garage'].value_counts()"
   ]
  },
  {
   "cell_type": "markdown",
   "metadata": {
    "id": "oC7g2evz43yZ"
   },
   "source": [
    "앞선 방식과 비슷하게 코딩했습니다. value_counts 함수를 통해 원하는 목적대로 코드가 작동했는지 확인했습니다."
   ]
  },
  {
   "cell_type": "markdown",
   "metadata": {
    "id": "qXmKzUhV3IDy"
   },
   "source": [
    "# 데이터 전처리"
   ]
  },
  {
   "cell_type": "code",
   "execution_count": 89,
   "metadata": {
    "id": "sl6PlOUj3Z6u"
   },
   "outputs": [],
   "source": [
    "from sklearn.preprocessing import StandardScaler\n",
    "\n",
    "continuous_names = ['Gr Liv Area', 'Garage Area', 'Total Bsmt SF', 'Year Built']\n",
    "\n",
    "scaler = StandardScaler()\n",
    "\n",
    "train_scaler = scaler.fit_transform(train[continuous_names])\n",
    "train[continuous_names] = pd.DataFrame(data=train_scaler, columns=continuous_names)\n",
    "\n",
    "test_scaler = scaler.transform(test[continuous_names])\n",
    "test[continuous_names] = pd.DataFrame(data=test_scaler, columns=continuous_names)"
   ]
  },
  {
   "cell_type": "markdown",
   "metadata": {
    "id": "OV0LBJAx3_Mc"
   },
   "source": [
    "남은 연속형 변수들을 모두 표준화 시켜줍니다. 표준화의 장점은 변수 간 스케일 차이가 모델에 영향을 주지 않기 위함인데요.\n",
    "\n",
    "머신러닝 방식에 따라 표준화가 반드시 필요할 수도 있고 아닐수도 있지만, 모든 머신러닝 방식에 적용하기 위해 표준화를 시켜줬습니다. \n",
    "\n",
    "이전에 범주형 변수에서도 레이블 인코딩 방식을 적용할때 평균을 0에 가까이 하기 위해 노력한 것도 표준화의 일종입니다.\n",
    "\n",
    "또 중요한 점이 스케일링을 진행할 때 테스트 데이터는 모르는 상태로 진행해야한다는 것 입니다.\n",
    "\n",
    "그래서 스케일러를 만들때는 트레인 데이터만을 사용해서 만들었고, 테스트 데이터는 스케일러에 적용만 했습니다.\n",
    "\n",
    "이 부분에 더 자세한 설명은 제 이전글을 참고하시면 좋을 것 같아요!"
   ]
  },
  {
   "cell_type": "code",
   "execution_count": 90,
   "metadata": {
    "colab": {
     "base_uri": "https://localhost:8080/",
     "height": 382
    },
    "id": "1mywMKdiqSR-",
    "outputId": "e0dd542d-726e-40be-bdf6-a12dd9250c0c"
   },
   "outputs": [
    {
     "data": {
      "text/html": [
       "<div>\n",
       "<style scoped>\n",
       "    .dataframe tbody tr th:only-of-type {\n",
       "        vertical-align: middle;\n",
       "    }\n",
       "\n",
       "    .dataframe tbody tr th {\n",
       "        vertical-align: top;\n",
       "    }\n",
       "\n",
       "    .dataframe thead th {\n",
       "        text-align: right;\n",
       "    }\n",
       "</style>\n",
       "<table border=\"1\" class=\"dataframe\">\n",
       "  <thead>\n",
       "    <tr style=\"text-align: right;\">\n",
       "      <th></th>\n",
       "      <th>id</th>\n",
       "      <th>Overall Qual</th>\n",
       "      <th>Gr Liv Area</th>\n",
       "      <th>Exter Qual</th>\n",
       "      <th>Garage Cars</th>\n",
       "      <th>Garage Area</th>\n",
       "      <th>Kitchen Qual</th>\n",
       "      <th>Total Bsmt SF</th>\n",
       "      <th>1st - Total</th>\n",
       "      <th>Bsmt Qual</th>\n",
       "      <th>Full Bath</th>\n",
       "      <th>Year Built</th>\n",
       "      <th>Remod</th>\n",
       "      <th>Garage</th>\n",
       "      <th>target</th>\n",
       "    </tr>\n",
       "  </thead>\n",
       "  <tbody>\n",
       "    <tr>\n",
       "      <th>count</th>\n",
       "      <td>1350.000000</td>\n",
       "      <td>1350.000000</td>\n",
       "      <td>1.350000e+03</td>\n",
       "      <td>1350.000000</td>\n",
       "      <td>1350.000000</td>\n",
       "      <td>1.350000e+03</td>\n",
       "      <td>1350.000000</td>\n",
       "      <td>1.350000e+03</td>\n",
       "      <td>1350.000000</td>\n",
       "      <td>1350.000000</td>\n",
       "      <td>1350.000000</td>\n",
       "      <td>1.350000e+03</td>\n",
       "      <td>1350.000000</td>\n",
       "      <td>1350.000000</td>\n",
       "      <td>1350.000000</td>\n",
       "    </tr>\n",
       "    <tr>\n",
       "      <th>mean</th>\n",
       "      <td>675.500000</td>\n",
       "      <td>-0.291852</td>\n",
       "      <td>-2.289527e-16</td>\n",
       "      <td>-0.568148</td>\n",
       "      <td>-0.139259</td>\n",
       "      <td>-6.315935e-17</td>\n",
       "      <td>-0.426667</td>\n",
       "      <td>1.342136e-16</td>\n",
       "      <td>0.428148</td>\n",
       "      <td>-0.370370</td>\n",
       "      <td>0.084444</td>\n",
       "      <td>3.067176e-15</td>\n",
       "      <td>0.100741</td>\n",
       "      <td>0.608889</td>\n",
       "      <td>186406.312593</td>\n",
       "    </tr>\n",
       "    <tr>\n",
       "      <th>std</th>\n",
       "      <td>389.855743</td>\n",
       "      <td>1.287020</td>\n",
       "      <td>1.000371e+00</td>\n",
       "      <td>0.564078</td>\n",
       "      <td>0.626697</td>\n",
       "      <td>1.000371e+00</td>\n",
       "      <td>0.635169</td>\n",
       "      <td>1.000371e+00</td>\n",
       "      <td>0.552996</td>\n",
       "      <td>0.657293</td>\n",
       "      <td>0.996797</td>\n",
       "      <td>1.000371e+00</td>\n",
       "      <td>0.995281</td>\n",
       "      <td>0.793549</td>\n",
       "      <td>78435.424758</td>\n",
       "    </tr>\n",
       "    <tr>\n",
       "      <th>min</th>\n",
       "      <td>1.000000</td>\n",
       "      <td>-2.500000</td>\n",
       "      <td>-2.120771e+00</td>\n",
       "      <td>-1.000000</td>\n",
       "      <td>-1.000000</td>\n",
       "      <td>-2.101280e+00</td>\n",
       "      <td>-1.000000</td>\n",
       "      <td>-2.546444e+00</td>\n",
       "      <td>-1.000000</td>\n",
       "      <td>-1.000000</td>\n",
       "      <td>-1.000000</td>\n",
       "      <td>-3.174022e+00</td>\n",
       "      <td>-1.000000</td>\n",
       "      <td>-1.000000</td>\n",
       "      <td>12789.000000</td>\n",
       "    </tr>\n",
       "    <tr>\n",
       "      <th>25%</th>\n",
       "      <td>338.250000</td>\n",
       "      <td>-1.500000</td>\n",
       "      <td>-7.582801e-01</td>\n",
       "      <td>-1.000000</td>\n",
       "      <td>-1.000000</td>\n",
       "      <td>-7.004781e-01</td>\n",
       "      <td>-1.000000</td>\n",
       "      <td>-6.945214e-01</td>\n",
       "      <td>0.000000</td>\n",
       "      <td>-1.000000</td>\n",
       "      <td>-1.000000</td>\n",
       "      <td>-6.139801e-01</td>\n",
       "      <td>-1.000000</td>\n",
       "      <td>1.000000</td>\n",
       "      <td>135000.000000</td>\n",
       "    </tr>\n",
       "    <tr>\n",
       "      <th>50%</th>\n",
       "      <td>675.500000</td>\n",
       "      <td>-0.500000</td>\n",
       "      <td>-1.396189e-01</td>\n",
       "      <td>-1.000000</td>\n",
       "      <td>0.000000</td>\n",
       "      <td>-9.416111e-02</td>\n",
       "      <td>-1.000000</td>\n",
       "      <td>-1.918197e-01</td>\n",
       "      <td>0.000000</td>\n",
       "      <td>0.000000</td>\n",
       "      <td>1.000000</td>\n",
       "      <td>1.028315e-01</td>\n",
       "      <td>1.000000</td>\n",
       "      <td>1.000000</td>\n",
       "      <td>165375.000000</td>\n",
       "    </tr>\n",
       "    <tr>\n",
       "      <th>75%</th>\n",
       "      <td>1012.750000</td>\n",
       "      <td>0.500000</td>\n",
       "      <td>5.354708e-01</td>\n",
       "      <td>0.000000</td>\n",
       "      <td>0.000000</td>\n",
       "      <td>4.494335e-01</td>\n",
       "      <td>0.000000</td>\n",
       "      <td>5.908844e-01</td>\n",
       "      <td>1.000000</td>\n",
       "      <td>0.000000</td>\n",
       "      <td>1.000000</td>\n",
       "      <td>9.903125e-01</td>\n",
       "      <td>1.000000</td>\n",
       "      <td>1.000000</td>\n",
       "      <td>217875.000000</td>\n",
       "    </tr>\n",
       "    <tr>\n",
       "      <th>max</th>\n",
       "      <td>1350.000000</td>\n",
       "      <td>2.500000</td>\n",
       "      <td>6.078799e+00</td>\n",
       "      <td>1.000000</td>\n",
       "      <td>1.000000</td>\n",
       "      <td>5.153617e+00</td>\n",
       "      <td>1.000000</td>\n",
       "      <td>4.108494e+00</td>\n",
       "      <td>1.000000</td>\n",
       "      <td>1.000000</td>\n",
       "      <td>1.000000</td>\n",
       "      <td>1.263384e+00</td>\n",
       "      <td>1.000000</td>\n",
       "      <td>1.000000</td>\n",
       "      <td>745000.000000</td>\n",
       "    </tr>\n",
       "  </tbody>\n",
       "</table>\n",
       "</div>"
      ],
      "text/plain": [
       "                id  Overall Qual   Gr Liv Area   Exter Qual  Garage Cars  \\\n",
       "count  1350.000000   1350.000000  1.350000e+03  1350.000000  1350.000000   \n",
       "mean    675.500000     -0.291852 -2.289527e-16    -0.568148    -0.139259   \n",
       "std     389.855743      1.287020  1.000371e+00     0.564078     0.626697   \n",
       "min       1.000000     -2.500000 -2.120771e+00    -1.000000    -1.000000   \n",
       "25%     338.250000     -1.500000 -7.582801e-01    -1.000000    -1.000000   \n",
       "50%     675.500000     -0.500000 -1.396189e-01    -1.000000     0.000000   \n",
       "75%    1012.750000      0.500000  5.354708e-01     0.000000     0.000000   \n",
       "max    1350.000000      2.500000  6.078799e+00     1.000000     1.000000   \n",
       "\n",
       "        Garage Area  Kitchen Qual  Total Bsmt SF  1st - Total    Bsmt Qual  \\\n",
       "count  1.350000e+03   1350.000000   1.350000e+03  1350.000000  1350.000000   \n",
       "mean  -6.315935e-17     -0.426667   1.342136e-16     0.428148    -0.370370   \n",
       "std    1.000371e+00      0.635169   1.000371e+00     0.552996     0.657293   \n",
       "min   -2.101280e+00     -1.000000  -2.546444e+00    -1.000000    -1.000000   \n",
       "25%   -7.004781e-01     -1.000000  -6.945214e-01     0.000000    -1.000000   \n",
       "50%   -9.416111e-02     -1.000000  -1.918197e-01     0.000000     0.000000   \n",
       "75%    4.494335e-01      0.000000   5.908844e-01     1.000000     0.000000   \n",
       "max    5.153617e+00      1.000000   4.108494e+00     1.000000     1.000000   \n",
       "\n",
       "         Full Bath    Year Built        Remod       Garage         target  \n",
       "count  1350.000000  1.350000e+03  1350.000000  1350.000000    1350.000000  \n",
       "mean      0.084444  3.067176e-15     0.100741     0.608889  186406.312593  \n",
       "std       0.996797  1.000371e+00     0.995281     0.793549   78435.424758  \n",
       "min      -1.000000 -3.174022e+00    -1.000000    -1.000000   12789.000000  \n",
       "25%      -1.000000 -6.139801e-01    -1.000000     1.000000  135000.000000  \n",
       "50%       1.000000  1.028315e-01     1.000000     1.000000  165375.000000  \n",
       "75%       1.000000  9.903125e-01     1.000000     1.000000  217875.000000  \n",
       "max       1.000000  1.263384e+00     1.000000     1.000000  745000.000000  "
      ]
     },
     "execution_count": 90,
     "metadata": {},
     "output_type": "execute_result"
    }
   ],
   "source": [
    "train.describe()"
   ]
  },
  {
   "cell_type": "markdown",
   "metadata": {
    "id": "a9gS0YUU4xlG"
   },
   "source": [
    "모든 변수가 이쁘게 표준화 된 것을 확인할 수 있습니다."
   ]
  },
  {
   "cell_type": "code",
   "execution_count": 91,
   "metadata": {
    "id": "fdQJv1xz3L4Z"
   },
   "outputs": [],
   "source": [
    "train_label = np.log1p(train['target'])\n",
    "train.drop(['target', 'id'], axis = 1, inplace = True)\n",
    "test.drop(['id'], axis = 1, inplace = True)"
   ]
  },
  {
   "cell_type": "markdown",
   "metadata": {
    "id": "g7i-dCj45Wmq"
   },
   "source": [
    "목푯값을 로그변환 한 뒤 따로 저장해주고, 의미없는 id 변수는 제거해줍니다."
   ]
  },
  {
   "cell_type": "markdown",
   "metadata": {
    "id": "V32jfR8P58Wu"
   },
   "source": [
    "# 간단한 모델 적합"
   ]
  },
  {
   "cell_type": "code",
   "execution_count": 103,
   "metadata": {
    "id": "7jtmk3xu7DQw"
   },
   "outputs": [],
   "source": [
    "from sklearn.ensemble import RandomForestRegressor\n",
    "\n",
    "rf = RandomForestRegressor(random_state = 0, n_estimators = 100)\n",
    "rf.fit(train,train_label)\n",
    "sample_submission['target'] = np.expm1(rf.predict(test))\n",
    "\n",
    "sample_submission.to_csv('house_1.csv',index=False)"
   ]
  },
  {
   "cell_type": "markdown",
   "metadata": {
    "id": "rGBfNTsS72fo"
   },
   "source": [
    "간단한 랜덤포레스트 회귀 모델을 사용했습니다.\n",
    "\n",
    "리더보드 결과는 0.103정도 나옵니다. 다른 모델을 사용하거나, 앙상블을 진행한다면 더 좋은 결과가 나올 것으로 기대됩니다!"
   ]
  },
  {
   "cell_type": "code",
   "execution_count": 104,
   "metadata": {},
   "outputs": [
    {
     "data": {
      "text/html": [
       "<div>\n",
       "<style scoped>\n",
       "    .dataframe tbody tr th:only-of-type {\n",
       "        vertical-align: middle;\n",
       "    }\n",
       "\n",
       "    .dataframe tbody tr th {\n",
       "        vertical-align: top;\n",
       "    }\n",
       "\n",
       "    .dataframe thead th {\n",
       "        text-align: right;\n",
       "    }\n",
       "</style>\n",
       "<table border=\"1\" class=\"dataframe\">\n",
       "  <thead>\n",
       "    <tr style=\"text-align: right;\">\n",
       "      <th></th>\n",
       "      <th>id</th>\n",
       "      <th>target</th>\n",
       "    </tr>\n",
       "  </thead>\n",
       "  <tbody>\n",
       "    <tr>\n",
       "      <th>0</th>\n",
       "      <td>1</td>\n",
       "      <td>325618.546941</td>\n",
       "    </tr>\n",
       "    <tr>\n",
       "      <th>1</th>\n",
       "      <td>2</td>\n",
       "      <td>126797.873590</td>\n",
       "    </tr>\n",
       "    <tr>\n",
       "      <th>2</th>\n",
       "      <td>3</td>\n",
       "      <td>180281.798084</td>\n",
       "    </tr>\n",
       "    <tr>\n",
       "      <th>3</th>\n",
       "      <td>4</td>\n",
       "      <td>217353.116185</td>\n",
       "    </tr>\n",
       "    <tr>\n",
       "      <th>4</th>\n",
       "      <td>5</td>\n",
       "      <td>128285.894786</td>\n",
       "    </tr>\n",
       "    <tr>\n",
       "      <th>...</th>\n",
       "      <td>...</td>\n",
       "      <td>...</td>\n",
       "    </tr>\n",
       "    <tr>\n",
       "      <th>1345</th>\n",
       "      <td>1346</td>\n",
       "      <td>312374.089659</td>\n",
       "    </tr>\n",
       "    <tr>\n",
       "      <th>1346</th>\n",
       "      <td>1347</td>\n",
       "      <td>127948.517488</td>\n",
       "    </tr>\n",
       "    <tr>\n",
       "      <th>1347</th>\n",
       "      <td>1348</td>\n",
       "      <td>84663.887853</td>\n",
       "    </tr>\n",
       "    <tr>\n",
       "      <th>1348</th>\n",
       "      <td>1349</td>\n",
       "      <td>210368.189894</td>\n",
       "    </tr>\n",
       "    <tr>\n",
       "      <th>1349</th>\n",
       "      <td>1350</td>\n",
       "      <td>137687.435432</td>\n",
       "    </tr>\n",
       "  </tbody>\n",
       "</table>\n",
       "<p>1350 rows × 2 columns</p>\n",
       "</div>"
      ],
      "text/plain": [
       "        id         target\n",
       "0        1  325618.546941\n",
       "1        2  126797.873590\n",
       "2        3  180281.798084\n",
       "3        4  217353.116185\n",
       "4        5  128285.894786\n",
       "...    ...            ...\n",
       "1345  1346  312374.089659\n",
       "1346  1347  127948.517488\n",
       "1347  1348   84663.887853\n",
       "1348  1349  210368.189894\n",
       "1349  1350  137687.435432\n",
       "\n",
       "[1350 rows x 2 columns]"
      ]
     },
     "execution_count": 104,
     "metadata": {},
     "output_type": "execute_result"
    }
   ],
   "source": [
    "sample_submission"
   ]
  },
  {
   "cell_type": "code",
   "execution_count": null,
   "metadata": {},
   "outputs": [],
   "source": []
  }
 ],
 "metadata": {
  "colab": {
   "collapsed_sections": [],
   "name": "dacon_house.ipynb",
   "provenance": []
  },
  "kernelspec": {
   "display_name": "Python 3 (ipykernel)",
   "language": "python",
   "name": "python3"
  },
  "language_info": {
   "codemirror_mode": {
    "name": "ipython",
    "version": 3
   },
   "file_extension": ".py",
   "mimetype": "text/x-python",
   "name": "python",
   "nbconvert_exporter": "python",
   "pygments_lexer": "ipython3",
   "version": "3.8.12"
  }
 },
 "nbformat": 4,
 "nbformat_minor": 1
}
